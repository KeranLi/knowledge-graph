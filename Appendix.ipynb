{
 "cells": [
  {
   "cell_type": "markdown",
   "metadata": {},
   "source": [
    "# Embedding and quantities of Sedimentary Facies Knowledge Graph based on Deepwalk and Word2Vec Models"
   ]
  },
  {
   "cell_type": "markdown",
   "metadata": {},
   "source": [
    "## Code Reference\n",
    "\n",
    "https://www.analyticsvidhya.com/blog/2019/11/graph-feature-extraction-deepwalk/\n",
    "\n",
    "https://github.com/prateekjoshi565/DeepWalk\n",
    "\n",
    "Package installing and visualization came from Bilibili@同济子豪兄\n",
    "\n",
    "Cells of NLP and distance quanity comes from Author:\n",
    "Keran Li, Mastery student from State Key Labratory of Oil & Gas Reservoir Geology, Chengdu University of Technology \n",
    "\n",
    "This tutorial is the appendix of the paper：A knowledge graph for standard carbonate microfacies and its application on the automatically reconstruction of the relative sea-level curve"
   ]
  },
  {
   "cell_type": "markdown",
   "metadata": {},
   "source": [
    "## Package Installing"
   ]
  },
  {
   "cell_type": "code",
   "execution_count": 1,
   "metadata": {},
   "outputs": [
    {
     "name": "stdout",
     "output_type": "stream",
     "text": [
      "Requirement already satisfied: networkx in f:\\anaconda3\\lib\\site-packages (2.5)\n",
      "Requirement already satisfied: gensim in f:\\anaconda3\\lib\\site-packages (4.2.0)\n",
      "Requirement already satisfied: pandas in f:\\anaconda3\\lib\\site-packages (0.25.3)\n",
      "Requirement already satisfied: numpy in f:\\anaconda3\\lib\\site-packages (1.19.2)\n",
      "Requirement already satisfied: tqdm in f:\\anaconda3\\lib\\site-packages (4.50.2)\n",
      "Requirement already satisfied: scikit-learn in f:\\anaconda3\\lib\\site-packages (0.23.2)\n",
      "Requirement already satisfied: matplotlib in f:\\anaconda3\\lib\\site-packages (3.3.2)\n",
      "Requirement already satisfied: decorator>=4.3.0 in f:\\anaconda3\\lib\\site-packages (from networkx) (4.4.2)\n",
      "Requirement already satisfied: scipy>=0.18.1 in f:\\anaconda3\\lib\\site-packages (from gensim) (1.5.2)\n",
      "Requirement already satisfied: smart-open>=1.8.1 in f:\\anaconda3\\lib\\site-packages (from gensim) (3.0.0)\n",
      "Requirement already satisfied: Cython==0.29.28 in f:\\anaconda3\\lib\\site-packages (from gensim) (0.29.28)\n",
      "Requirement already satisfied: pytz>=2017.2 in f:\\anaconda3\\lib\\site-packages (from pandas) (2020.1)\n",
      "Requirement already satisfied: python-dateutil>=2.6.1 in f:\\anaconda3\\lib\\site-packages (from pandas) (2.8.1)\n",
      "Requirement already satisfied: threadpoolctl>=2.0.0 in f:\\anaconda3\\lib\\site-packages (from scikit-learn) (2.1.0)\n",
      "Requirement already satisfied: joblib>=0.11 in f:\\anaconda3\\lib\\site-packages (from scikit-learn) (0.17.0)\n",
      "Requirement already satisfied: pillow>=6.2.0 in f:\\anaconda3\\lib\\site-packages (from matplotlib) (8.0.1)\n",
      "Requirement already satisfied: pyparsing!=2.0.4,!=2.1.2,!=2.1.6,>=2.0.3 in f:\\anaconda3\\lib\\site-packages (from matplotlib) (2.4.7)\n",
      "Requirement already satisfied: certifi>=2020.06.20 in f:\\anaconda3\\lib\\site-packages (from matplotlib) (2020.6.20)\n",
      "Requirement already satisfied: kiwisolver>=1.0.1 in f:\\anaconda3\\lib\\site-packages (from matplotlib) (1.3.0)\n",
      "Requirement already satisfied: cycler>=0.10 in f:\\anaconda3\\lib\\site-packages (from matplotlib) (0.10.0)\n",
      "Requirement already satisfied: requests in f:\\anaconda3\\lib\\site-packages (from smart-open>=1.8.1->gensim) (2.24.0)\n",
      "Requirement already satisfied: six>=1.5 in f:\\anaconda3\\lib\\site-packages (from python-dateutil>=2.6.1->pandas) (1.15.0)\n",
      "Requirement already satisfied: urllib3!=1.25.0,!=1.25.1,<1.26,>=1.21.1 in f:\\anaconda3\\lib\\site-packages (from requests->smart-open>=1.8.1->gensim) (1.25.11)\n",
      "Requirement already satisfied: idna<3,>=2.5 in f:\\anaconda3\\lib\\site-packages (from requests->smart-open>=1.8.1->gensim) (2.10)\n",
      "Requirement already satisfied: chardet<4,>=3.0.2 in f:\\anaconda3\\lib\\site-packages (from requests->smart-open>=1.8.1->gensim) (3.0.4)\n"
     ]
    }
   ],
   "source": [
    "!pip install networkx gensim pandas numpy tqdm scikit-learn matplotlib re"
   ]
  },
  {
   "cell_type": "markdown",
   "metadata": {},
   "source": [
    "## Packages Import"
   ]
  },
  {
   "cell_type": "code",
   "execution_count": 2,
   "metadata": {},
   "outputs": [],
   "source": [
    "import networkx as nx # Graph Data Mining\n",
    "\n",
    "# Packages for Data Analysis\n",
    "import pandas as pd\n",
    "import numpy as np\n",
    "\n",
    "import random # Generating Random Number\n",
    "from tqdm import tqdm # Progress Bar\n",
    "\n",
    "# Visualization\n",
    "import matplotlib.pyplot as plt\n",
    "%matplotlib inline\n",
    "\n",
    "plt.rcParams['axes.unicode_minus']=False  # To Show minus sign\n",
    "\n",
    "import re"
   ]
  },
  {
   "cell_type": "markdown",
   "metadata": {},
   "source": [
    "## Directed Graph Generating via Neo4j\n",
    "\n",
    "\n",
    "1.Open Neo4j with the knowlege graph (previous part displayed detals), into the button \"Table\" and select \"Export\"\n",
    "\n",
    "2.Generate the \".csv\" files with the form of \"Source (1st collumn), Target (2nd collumn), Distance (3rd collumn)\", the \"Distance\" is the \n",
    "attributes between nodes\n",
    "\n",
    "3.Check the integrity"
   ]
  },
  {
   "cell_type": "code",
   "execution_count": 3,
   "metadata": {},
   "outputs": [],
   "source": [
    "df = pd.read_csv(\"E:\\\\文章\\\\知识图谱\\\\sedimentology_new.csv\")"
   ]
  },
  {
   "cell_type": "code",
   "execution_count": 4,
   "metadata": {},
   "outputs": [
    {
     "data": {
      "text/html": [
       "<div>\n",
       "<style scoped>\n",
       "    .dataframe tbody tr th:only-of-type {\n",
       "        vertical-align: middle;\n",
       "    }\n",
       "\n",
       "    .dataframe tbody tr th {\n",
       "        vertical-align: top;\n",
       "    }\n",
       "\n",
       "    .dataframe thead th {\n",
       "        text-align: right;\n",
       "    }\n",
       "</style>\n",
       "<table border=\"1\" class=\"dataframe\">\n",
       "  <thead>\n",
       "    <tr style=\"text-align: right;\">\n",
       "      <th></th>\n",
       "      <th>source</th>\n",
       "      <th>target</th>\n",
       "      <th>Unnamed: 2</th>\n",
       "    </tr>\n",
       "  </thead>\n",
       "  <tbody>\n",
       "    <tr>\n",
       "      <th>0</th>\n",
       "      <td>Rimmed_carbonate_platform</td>\n",
       "      <td>RCP</td>\n",
       "      <td>NaN</td>\n",
       "    </tr>\n",
       "    <tr>\n",
       "      <th>1</th>\n",
       "      <td>Deep_water_basin</td>\n",
       "      <td>FZ1</td>\n",
       "      <td>NaN</td>\n",
       "    </tr>\n",
       "    <tr>\n",
       "      <th>2</th>\n",
       "      <td>Deep_shelf</td>\n",
       "      <td>FZ2</td>\n",
       "      <td>NaN</td>\n",
       "    </tr>\n",
       "    <tr>\n",
       "      <th>3</th>\n",
       "      <td>Toe_of_slope</td>\n",
       "      <td>FZ3</td>\n",
       "      <td>NaN</td>\n",
       "    </tr>\n",
       "    <tr>\n",
       "      <th>4</th>\n",
       "      <td>Slope</td>\n",
       "      <td>FZ4</td>\n",
       "      <td>NaN</td>\n",
       "    </tr>\n",
       "  </tbody>\n",
       "</table>\n",
       "</div>"
      ],
      "text/plain": [
       "                      source target Unnamed: 2\n",
       "0  Rimmed_carbonate_platform    RCP        NaN\n",
       "1           Deep_water_basin    FZ1        NaN\n",
       "2                 Deep_shelf    FZ2        NaN\n",
       "3               Toe_of_slope    FZ3        NaN\n",
       "4                      Slope    FZ4        NaN"
      ]
     },
     "execution_count": 4,
     "metadata": {},
     "output_type": "execute_result"
    }
   ],
   "source": [
    "df.head()"
   ]
  },
  {
   "cell_type": "code",
   "execution_count": 5,
   "metadata": {},
   "outputs": [
    {
     "data": {
      "text/plain": [
       "(620, 3)"
      ]
     },
     "execution_count": 5,
     "metadata": {},
     "output_type": "execute_result"
    }
   ],
   "source": [
    "df.shape"
   ]
  },
  {
   "cell_type": "markdown",
   "metadata": {},
   "source": [
    "## Graph Generating"
   ]
  },
  {
   "cell_type": "code",
   "execution_count": 6,
   "metadata": {},
   "outputs": [],
   "source": [
    "G = nx.from_pandas_edgelist(df, \"source\", \"target\", create_using=nx.Graph())"
   ]
  },
  {
   "cell_type": "code",
   "execution_count": 7,
   "metadata": {},
   "outputs": [
    {
     "data": {
      "image/png": "[encoded data removed]",
      "text/plain": [
       "<Figure size 1080x1008 with 1 Axes>"
      ]
     },
     "metadata": {},
     "output_type": "display_data"
    }
   ],
   "source": [
    "# Visualization\n",
    "plt.figure(figsize=(15,14))\n",
    "nx.draw(G)\n",
    "plt.show()"
   ]
  },
  {
   "cell_type": "markdown",
   "metadata": {},
   "source": [
    "## Generating the walk sequence"
   ]
  },
  {
   "cell_type": "code",
   "execution_count": 8,
   "metadata": {},
   "outputs": [],
   "source": [
    "def get_randomwalk(node, path_length):\n",
    "    '''\n",
    "    Input the initial node and the lenth of sequence\n",
    "    '''\n",
    "    \n",
    "    random_walk = [node]\n",
    "    \n",
    "    for i in range(path_length-1):\n",
    "        # Adjacent nodes\n",
    "        temp = list(G.neighbors(node))\n",
    "        temp = list(set(temp) - set(random_walk))    \n",
    "        if len(temp) == 0:\n",
    "            break\n",
    "        # Select the next node from the sequence\n",
    "        random_node = random.choice(temp)\n",
    "        random_walk.append(random_node)\n",
    "        node = random_node\n",
    "        \n",
    "    return random_walk"
   ]
  },
  {
   "cell_type": "code",
   "execution_count": 9,
   "metadata": {},
   "outputs": [],
   "source": [
    "all_nodes = list(G.nodes())"
   ]
  },
  {
   "cell_type": "code",
   "execution_count": 10,
   "metadata": {
    "scrolled": true
   },
   "outputs": [
    {
     "data": {
      "text/plain": [
       "['Rimmed_carbonate_platform',\n",
       " 'RCP',\n",
       " 'Deep_water_basin',\n",
       " 'FZ1',\n",
       " 'Deep_shelf',\n",
       " 'FZ2',\n",
       " 'Toe_of_slope',\n",
       " 'FZ3',\n",
       " 'Slope',\n",
       " 'FZ4',\n",
       " 'Platform_margin_reefs',\n",
       " 'FZ5',\n",
       " 'Platform_margin_shoals',\n",
       " 'FZ6',\n",
       " 'Open_platform',\n",
       " 'FZ7',\n",
       " 'Restricted_platform',\n",
       " 'FZ8',\n",
       " 'Evaporites_platform',\n",
       " 'FZ9',\n",
       " 'Meteoric_freshwater_zone',\n",
       " 'FZ10',\n",
       " 'Spiculite_wackestone_packstone',\n",
       " 'SMF1',\n",
       " 'Microbioclastic_peloidal_calcisiltite',\n",
       " 'SMF2',\n",
       " 'Pelagic_mudstone_wackestone',\n",
       " 'SMF3',\n",
       " 'Microbreccia_biolithoclastic_packstone',\n",
       " 'SMF4',\n",
       " 'Allochthonous_bioclastic_grainstone_rudstone_packstone_floatstone_breccia',\n",
       " 'SMF5',\n",
       " 'Densely_packed_reef_rudstone',\n",
       " 'SMF6',\n",
       " 'Organic_boundstone_platform_margin_reef',\n",
       " 'SMF7',\n",
       " 'Whole_fossil_wackestone_floatstone',\n",
       " 'SMF8',\n",
       " 'Burrowed_bioclastic_wackestone',\n",
       " 'SMF9',\n",
       " 'Bioclastic_packstone_wackestone_with_worn_skeletal_grains',\n",
       " 'SMF10',\n",
       " 'Coated_bioclastic_grainstone',\n",
       " 'SMF11',\n",
       " 'Limestone_with_shell_concentrations',\n",
       " 'SMF12S',\n",
       " 'SMF12C',\n",
       " 'Oncoid_rudstone_grainstone',\n",
       " 'SMF13',\n",
       " 'Ooid_grainstone_with_concentric_ooids',\n",
       " 'SMF15C',\n",
       " 'SMF15R',\n",
       " 'SMF15M',\n",
       " 'Peloidal_bindstone',\n",
       " 'SMF16L',\n",
       " 'SMF16NL',\n",
       " 'Aggregate_grain_grainstone',\n",
       " 'SMF17',\n",
       " 'Grainstone_packstone_with_abundant_foraminifera_or_algae',\n",
       " 'SMF18',\n",
       " 'Densely_laminated_bindstone',\n",
       " 'SMF19',\n",
       " 'Laminated_stromatolitic_bindstone_mudstone',\n",
       " 'SMF20',\n",
       " 'Fenestral_packstone_bindstone',\n",
       " 'SMF21',\n",
       " 'Oncoid_floatstone_packstone',\n",
       " 'SMF22',\n",
       " 'Homogeneous_nonfossiliferous_micrite',\n",
       " 'SMF23',\n",
       " 'Lithoclastic_floatstone_rudstone_breccia',\n",
       " 'SMF24',\n",
       " 'Laminated_evaporite_carbonate_mudstone',\n",
       " 'SMF25',\n",
       " 'Pisoid_cementstone_rudstone_packstone',\n",
       " 'SMF26',\n",
       " 'Grain_Tyes',\n",
       " 'micro-bioclasts',\n",
       " 'Grain_content',\n",
       " 'common',\n",
       " 'Matrix_Tyes',\n",
       " 'Matrix_content',\n",
       " 'Depositional_fabrics',\n",
       " 'sponge spicules oriented alignment',\n",
       " 'Fossils_Tyes',\n",
       " 'siliceous (or calcified) sponge spicules',\n",
       " 'Fossils_content',\n",
       " 'abundant',\n",
       " 'Texture_types',\n",
       " 'mudstone',\n",
       " 'pelagic microfossils',\n",
       " 'Small-scale ripple cross-lamination and laminae',\n",
       " 'echinoderms and mollusks',\n",
       " 'Micrite',\n",
       " 'calpionellids',\n",
       " 'Microbreccia',\n",
       " 'Grain_sorting',\n",
       " 'Poor',\n",
       " 'Grain_rounding',\n",
       " 'commonly worn and rounded',\n",
       " 'packstone or rudstone',\n",
       " 'Grading textures',\n",
       " 'Allochthonous bioclastic',\n",
       " 'grainstone',\n",
       " 'Turbidite sequences',\n",
       " 'biogenic material and lithified sediment',\n",
       " 'Grain_size',\n",
       " 'Coarse gravels',\n",
       " 'well- sort or bad- sort',\n",
       " 'a few',\n",
       " 'rudstone',\n",
       " 'bioclastic',\n",
       " 'framestone',\n",
       " 'boundstones',\n",
       " 'Strongly burrowed',\n",
       " 'Wackestones',\n",
       " 'mollusks',\n",
       " 'wackestone',\n",
       " 'crinoids',\n",
       " 'commom',\n",
       " 'skeletal',\n",
       " 'fine-grained matrix',\n",
       " 'packstones and wackestones',\n",
       " 'grainstone with coated',\n",
       " 'Bioclastic',\n",
       " 'rudstones or densely packed floatstones',\n",
       " 'bivalves',\n",
       " 'Oncoid',\n",
       " 'Millimeter- to centimeter-sized',\n",
       " 'rudstones and grainstones',\n",
       " 'cyanoids and porostromate',\n",
       " 'Oolite',\n",
       " 'well-sorted',\n",
       " 'round',\n",
       " 'cross beddeding',\n",
       " 'grainstones',\n",
       " 'Ooid',\n",
       " 'poor sorting',\n",
       " 'highly irregularly shaped',\n",
       " 'ooid',\n",
       " 'wide range in sizes',\n",
       " 'peloids',\n",
       " 'different size',\n",
       " 'bad sorting',\n",
       " 'high roundness',\n",
       " 'microbial or algal',\n",
       " 'laminated',\n",
       " 'well sort',\n",
       " 'sub-round or subangular',\n",
       " 'benthic foraminifera',\n",
       " 'Non-laminated',\n",
       " 'consist predominantly of arenitic and ruditic lumps and grapestones',\n",
       " 'foraminifera and algae',\n",
       " 'benthic foraminifera or calcareous green algae',\n",
       " 'grainstones and packstones',\n",
       " 'ostracods',\n",
       " 'fine- or coarse-grained',\n",
       " 'dome-shaped laminated',\n",
       " 'bindstones',\n",
       " 'packstones and bindstones',\n",
       " 'Ostracods',\n",
       " 'Fenestral',\n",
       " 'oncoids',\n",
       " 'microbes and algae',\n",
       " 'trapped and bound together by non-skeletal microbes and algae',\n",
       " 'micrite and microsparite',\n",
       " 'homogeneous',\n",
       " 'floatstones',\n",
       " 'Coarse',\n",
       " 'angular',\n",
       " 'edgewise arranged',\n",
       " 'sometimes cross-bedded',\n",
       " 'fine-crystalline carbonate with evaporite crystals',\n",
       " 'Laminated',\n",
       " 'Pisoid',\n",
       " 'more than 2.0mm',\n",
       " 'rudstones and packstones',\n",
       " 'associated with tepee structures',\n",
       " 'FZD10',\n",
       " 'FZD9',\n",
       " 'FZD8',\n",
       " 'FZD7',\n",
       " 'FZD6',\n",
       " 'FZD5',\n",
       " 'FZD4',\n",
       " 'FZD3',\n",
       " 'FZD2',\n",
       " 'FZD1',\n",
       " 'MSD26',\n",
       " 'MSD25',\n",
       " 'MSD24',\n",
       " 'MSD23',\n",
       " 'MSD22',\n",
       " 'MSD21',\n",
       " 'MSD20',\n",
       " 'MSD19',\n",
       " 'MSD18',\n",
       " 'MSD17',\n",
       " 'MSD16',\n",
       " 'MSD15',\n",
       " 'MSD14',\n",
       " 'MSD12',\n",
       " 'MSD11',\n",
       " 'MSD10',\n",
       " 'MSD9',\n",
       " 'MSD8',\n",
       " 'MSD7',\n",
       " 'MSD6',\n",
       " 'MSD5',\n",
       " 'MSD4',\n",
       " 'MSD3',\n",
       " 'MSD2',\n",
       " 'MSD1']"
      ]
     },
     "execution_count": 10,
     "metadata": {},
     "output_type": "execute_result"
    }
   ],
   "source": [
    "all_nodes"
   ]
  },
  {
   "cell_type": "code",
   "execution_count": 11,
   "metadata": {},
   "outputs": [
    {
     "data": {
      "text/plain": [
       "['SMF7', 'MSD20']"
      ]
     },
     "execution_count": 11,
     "metadata": {},
     "output_type": "execute_result"
    }
   ],
   "source": [
    "get_randomwalk('SMF7', 5)"
   ]
  },
  {
   "cell_type": "markdown",
   "metadata": {},
   "source": [
    "## Sequence via deep-walk"
   ]
  },
  {
   "cell_type": "code",
   "execution_count": 12,
   "metadata": {},
   "outputs": [],
   "source": [
    "gamma = 10 # the number of sequence\n",
    "walk_length = 5 # Max lenth of the sequence"
   ]
  },
  {
   "cell_type": "code",
   "execution_count": 13,
   "metadata": {},
   "outputs": [
    {
     "name": "stderr",
     "output_type": "stream",
     "text": [
      "100%|█████████████████████████████████████████████████████████████████████████████| 213/213 [00:00<00:00, 10647.98it/s]\n"
     ]
    }
   ],
   "source": [
    "random_walks = []\n",
    "\n",
    "for n in tqdm(all_nodes): # Traverse each node\n",
    "    for i in range(gamma): # Generating gamma-number sequence from nodes\n",
    "        random_walks.append(get_randomwalk(n, walk_length))"
   ]
  },
  {
   "cell_type": "code",
   "execution_count": 14,
   "metadata": {},
   "outputs": [
    {
     "data": {
      "text/plain": [
       "['Rimmed_carbonate_platform', 'RCP']"
      ]
     },
     "execution_count": 14,
     "metadata": {},
     "output_type": "execute_result"
    }
   ],
   "source": [
    "random_walks[1]"
   ]
  },
  {
   "cell_type": "markdown",
   "metadata": {},
   "source": [
    "## Train the model of Word2Vec"
   ]
  },
  {
   "cell_type": "code",
   "execution_count": 15,
   "metadata": {},
   "outputs": [],
   "source": [
    "from gensim.models import Word2Vec # NLP"
   ]
  },
  {
   "cell_type": "code",
   "execution_count": 16,
   "metadata": {},
   "outputs": [],
   "source": [
    "model = Word2Vec(vector_size=256, # The dimension of Embedding\n",
    "                 window=4, # The lenth of window\n",
    "                 sg=1, # Skip-Gram\n",
    "                 hs=0, # Softmax unlayered\n",
    "                 negative=10, # Negative sampling\n",
    "                 alpha=0.03,  # Initial learning rate \n",
    "                 min_alpha=0.0007, # Min learning rate\n",
    "                 seed=14 # Random Seeds\n",
    "                )"
   ]
  },
  {
   "cell_type": "code",
   "execution_count": 17,
   "metadata": {},
   "outputs": [],
   "source": [
    "# Constructing vocabulary with random walk sequence\n",
    "model.build_vocab(random_walks, progress_per=2)"
   ]
  },
  {
   "cell_type": "code",
   "execution_count": 18,
   "metadata": {},
   "outputs": [
    {
     "data": {
      "text/plain": [
       "(260444, 457200)"
      ]
     },
     "execution_count": 18,
     "metadata": {},
     "output_type": "execute_result"
    }
   ],
   "source": [
    "# Training\n",
    "model.train(random_walks, total_examples=model.corpus_count, epochs=50, report_delay=1)"
   ]
  },
  {
   "cell_type": "markdown",
   "metadata": {},
   "source": [
    "## Analysis of the result from Word2Vec"
   ]
  },
  {
   "cell_type": "code",
   "execution_count": 19,
   "metadata": {},
   "outputs": [
    {
     "data": {
      "text/plain": [
       "(256,)"
      ]
     },
     "execution_count": 19,
     "metadata": {},
     "output_type": "execute_result"
    }
   ],
   "source": [
    "# Check the Embedding result from one node\n",
    "model.wv.get_vector('SMF7').shape"
   ]
  },
  {
   "cell_type": "code",
   "execution_count": 20,
   "metadata": {},
   "outputs": [
    {
     "data": {
      "text/plain": [
       "array([-2.21482277e-01,  9.59738158e-03, -2.13900059e-01, -9.37474445e-02,\n",
       "        1.15150832e-01,  2.29456858e-03,  3.27880889e-01,  5.03551841e-01,\n",
       "        3.64944749e-02, -4.10242260e-01,  1.46544367e-01, -2.42383599e-01,\n",
       "       -2.38377586e-01,  2.72145927e-01,  3.31569701e-01, -2.57343315e-02,\n",
       "        7.02377483e-02,  2.49372676e-01, -9.51780528e-02, -3.55245650e-01,\n",
       "        3.13618183e-01,  1.34087354e-01,  6.99934065e-02, -2.93920059e-02,\n",
       "       -1.44795433e-01, -2.92245716e-01, -1.06597401e-01,  7.40589015e-03,\n",
       "        6.95619956e-02,  4.69245136e-01,  3.31712306e-01, -1.63816229e-01,\n",
       "        1.62556246e-01, -2.11638242e-01,  5.02444953e-02,  4.63845991e-02,\n",
       "        2.01413408e-02, -4.68373708e-02,  1.39240637e-01,  5.33372611e-02,\n",
       "       -3.66539538e-01, -1.41271666e-01,  1.50963411e-01, -5.29418364e-02,\n",
       "       -2.07286514e-02, -1.73279375e-01, -5.28632179e-02,  2.63909977e-02,\n",
       "        5.97530864e-02, -1.60798088e-01, -2.36014396e-01, -4.06719774e-01,\n",
       "       -2.72802562e-01, -6.08256683e-02,  2.90944487e-01, -4.66886498e-02,\n",
       "        1.08179115e-01, -9.44078416e-02,  1.33592114e-01, -9.31151807e-02,\n",
       "        3.29344094e-01,  4.69638072e-02,  4.57449377e-01,  1.76612511e-01,\n",
       "        1.36454284e-01,  1.97577745e-01,  1.99485436e-01,  2.49704346e-01,\n",
       "       -4.31583263e-02,  1.44229457e-01,  3.67200077e-02, -3.44132572e-01,\n",
       "       -2.16318220e-01,  3.20245296e-01,  2.05379397e-01, -2.37993952e-02,\n",
       "       -1.47537857e-01,  2.78741151e-01, -5.06297983e-02, -4.54669297e-01,\n",
       "        1.03254125e-01,  1.27684977e-02,  2.81232357e-01, -4.36537936e-02,\n",
       "        2.02542573e-01,  7.82709420e-02,  3.97652507e-01, -2.85782665e-01,\n",
       "        1.29222974e-01,  1.23362802e-02, -3.28437120e-01, -7.77875260e-02,\n",
       "        2.29544863e-01,  1.05706528e-02, -3.25236410e-01,  3.34559023e-01,\n",
       "        2.67273098e-01,  1.14899814e-01,  5.29876530e-01, -2.02481791e-01,\n",
       "        1.55694395e-01, -1.38204992e-01,  2.45203450e-01, -1.28738970e-01,\n",
       "        1.28556728e-01, -2.43930370e-01,  1.15449473e-01,  8.14996064e-02,\n",
       "        1.25126110e-03,  4.76241671e-02, -1.74433768e-01, -2.28389859e-01,\n",
       "       -1.41946375e-01, -1.76867526e-02,  1.14855096e-01,  1.05999656e-01,\n",
       "        2.33715445e-01, -2.45454922e-01, -8.25698897e-02,  3.95753622e-01,\n",
       "       -2.79615700e-01,  5.13596572e-02, -8.23999643e-02,  2.66095847e-01,\n",
       "        7.51584768e-02,  1.00236207e-01, -1.61692888e-01,  1.27894461e-01,\n",
       "       -4.10034433e-02,  2.62907267e-01,  2.80691665e-02,  2.94847097e-02,\n",
       "       -3.24275672e-01,  2.99504213e-02,  4.95864004e-01, -2.80986220e-01,\n",
       "       -1.71999305e-01,  1.85305804e-01,  3.70535105e-01, -1.69517457e-01,\n",
       "       -2.90258676e-01, -1.70501441e-01,  3.55253786e-01, -4.08522747e-02,\n",
       "       -2.02138007e-01,  1.88987236e-02,  7.38482997e-02,  2.28175431e-01,\n",
       "        4.14109111e-01,  2.93160174e-02, -1.50804400e-01,  2.73257345e-01,\n",
       "        1.76716000e-01, -9.17702839e-02,  1.92916840e-01, -1.76085353e-01,\n",
       "       -1.99579597e-01,  1.04139589e-01, -4.78767157e-01, -4.03272696e-02,\n",
       "       -5.00303507e-01, -1.98359117e-02,  1.35819584e-01,  2.04815611e-01,\n",
       "        1.19563177e-01,  2.90092915e-01,  6.86501414e-02,  4.01372463e-01,\n",
       "       -2.36779198e-01, -2.19189316e-01,  2.74675161e-01,  1.78828850e-01,\n",
       "        7.84108788e-02,  2.37559333e-01, -1.70717597e-01,  4.04965490e-01,\n",
       "        1.68784365e-01,  2.47554109e-01,  2.52122760e-01,  1.97946578e-01,\n",
       "        6.37781397e-02,  8.10463652e-02, -2.95008719e-01,  2.46662032e-02,\n",
       "        1.17659144e-01,  1.49318755e-01,  5.93867421e-01, -4.55567949e-02,\n",
       "       -4.00178224e-01,  1.26508147e-01,  3.72102149e-02, -2.83208251e-01,\n",
       "        3.03250164e-01,  1.25872746e-01,  2.09073499e-02, -2.56967872e-01,\n",
       "        3.02217185e-01,  2.85784397e-02, -3.01264133e-02, -4.02838945e-01,\n",
       "       -2.60896027e-01,  4.74298894e-02, -3.01217079e-01,  1.38563201e-01,\n",
       "        5.94217107e-02,  1.50365323e-01, -4.79433089e-02,  7.24468902e-02,\n",
       "       -4.10416633e-01,  2.08188951e-01, -9.41459164e-02, -2.20217943e-01,\n",
       "        2.62915015e-01, -2.37788290e-01, -3.83862615e-01, -1.25698805e-01,\n",
       "       -2.70500600e-01,  8.57816115e-02,  2.98948437e-01, -3.27784033e-03,\n",
       "        1.94357172e-01,  3.30544353e-01, -1.19981363e-01,  4.32818800e-01,\n",
       "        3.54415745e-01, -3.47674340e-02,  3.01242143e-01, -2.24665165e-01,\n",
       "        6.22253180e-01,  1.63345501e-01, -2.12646186e-01, -3.20414662e-01,\n",
       "        6.36333153e-02, -6.10079337e-03, -1.16116053e-03,  3.53162706e-01,\n",
       "        2.10462555e-01,  1.66444853e-02, -2.67138869e-01,  2.47156229e-02,\n",
       "        2.72272855e-01,  3.03695410e-01,  2.41576713e-02,  3.35578322e-01,\n",
       "        1.52910173e-01, -1.22374445e-02,  1.53219342e-01,  7.47133419e-02,\n",
       "       -1.73954263e-01,  9.46044698e-02,  6.71655461e-02, -1.94971874e-01,\n",
       "       -7.45025054e-02, -3.19482744e-01, -4.82184999e-02, -5.29766490e-04],\n",
       "      dtype=float32)"
      ]
     },
     "execution_count": 20,
     "metadata": {},
     "output_type": "execute_result"
    }
   ],
   "source": [
    "model.wv.get_vector('SMF7')"
   ]
  },
  {
   "cell_type": "code",
   "execution_count": 21,
   "metadata": {},
   "outputs": [
    {
     "data": {
      "text/plain": [
       "[('Platform_margin_reefs', 0.769740104675293),\n",
       " ('MSD20', 0.7509692907333374),\n",
       " ('FZD6', 0.7162463068962097),\n",
       " ('MSD16', 0.6830814480781555),\n",
       " ('FZ5', 0.647959291934967),\n",
       " ('SMF11', 0.6413838863372803),\n",
       " ('Organic_boundstone_platform_margin_reef', 0.6209610104560852),\n",
       " ('bioclastic', 0.5762928128242493),\n",
       " ('cross beddeding', 0.5353313684463501),\n",
       " ('packstones and bindstones', 0.5349199771881104)]"
      ]
     },
     "execution_count": 21,
     "metadata": {},
     "output_type": "execute_result"
    }
   ],
   "source": [
    "# Test of searching similar words\n",
    "model.wv.similar_by_word('SMF7')"
   ]
  },
  {
   "cell_type": "markdown",
   "metadata": {},
   "source": [
    "## Dimension reduction visualization via PCA"
   ]
  },
  {
   "cell_type": "markdown",
   "metadata": {},
   "source": [
    "### Two-dimentional embedding and visualization  of all words"
   ]
  },
  {
   "cell_type": "code",
   "execution_count": 22,
   "metadata": {},
   "outputs": [],
   "source": [
    "X = model.wv.vectors"
   ]
  },
  {
   "cell_type": "code",
   "execution_count": 23,
   "metadata": {},
   "outputs": [],
   "source": [
    "# From 256 dimensions to 2 dimensions \n",
    "from sklearn.decomposition import PCA\n",
    "pca = PCA(n_components=2)\n",
    "embed_2d = pca.fit_transform(X)"
   ]
  },
  {
   "cell_type": "code",
   "execution_count": 24,
   "metadata": {},
   "outputs": [
    {
     "data": {
      "text/plain": [
       "(213, 2)"
      ]
     },
     "execution_count": 24,
     "metadata": {},
     "output_type": "execute_result"
    }
   ],
   "source": [
    "embed_2d.shape"
   ]
  },
  {
   "cell_type": "code",
   "execution_count": 25,
   "metadata": {},
   "outputs": [
    {
     "data": {
      "image/png": "[encoded data removed]",
      "text/plain": [
       "<Figure size 1008x1008 with 1 Axes>"
      ]
     },
     "metadata": {
      "needs_background": "light"
     },
     "output_type": "display_data"
    }
   ],
   "source": [
    "plt.figure(figsize=(14,14))\n",
    "plt.scatter(embed_2d[:, 0], embed_2d[:, 1])\n",
    "plt.show()\n"
   ]
  },
  {
   "cell_type": "markdown",
   "metadata": {},
   "source": [
    "### Two dimensional visualization and embedding of one node"
   ]
  },
  {
   "cell_type": "code",
   "execution_count": 26,
   "metadata": {},
   "outputs": [],
   "source": [
    "term = 'SMF7'"
   ]
  },
  {
   "cell_type": "code",
   "execution_count": 27,
   "metadata": {},
   "outputs": [],
   "source": [
    "term_256d = model.wv[term].reshape(1,-1)"
   ]
  },
  {
   "cell_type": "code",
   "execution_count": 28,
   "metadata": {},
   "outputs": [
    {
     "data": {
      "text/plain": [
       "(1, 256)"
      ]
     },
     "execution_count": 28,
     "metadata": {},
     "output_type": "execute_result"
    }
   ],
   "source": [
    "term_256d.shape"
   ]
  },
  {
   "cell_type": "code",
   "execution_count": 29,
   "metadata": {},
   "outputs": [],
   "source": [
    "term_2d = pca.transform(term_256d)"
   ]
  },
  {
   "cell_type": "code",
   "execution_count": 30,
   "metadata": {},
   "outputs": [
    {
     "data": {
      "text/plain": [
       "array([[0.40310687, 0.24157952]], dtype=float32)"
      ]
     },
     "execution_count": 30,
     "metadata": {},
     "output_type": "execute_result"
    }
   ],
   "source": [
    "term_2d"
   ]
  },
  {
   "cell_type": "code",
   "execution_count": 31,
   "metadata": {},
   "outputs": [
    {
     "data": {
      "image/png": "[encoded data removed]",
      "text/plain": [
       "<Figure size 1008x1008 with 1 Axes>"
      ]
     },
     "metadata": {
      "needs_background": "light"
     },
     "output_type": "display_data"
    }
   ],
   "source": [
    "plt.figure(figsize=(14,14))\n",
    "plt.scatter(embed_2d[:,0], embed_2d[:,1])\n",
    "plt.scatter(term_2d[:,0],term_2d[:,1],c='r',s=200)\n",
    "plt.show()"
   ]
  },
  {
   "cell_type": "markdown",
   "metadata": {},
   "source": [
    "### Two dimensional visualization and embedding of some nodes"
   ]
  },
  {
   "cell_type": "code",
   "execution_count": 32,
   "metadata": {},
   "outputs": [],
   "source": [
    "# Calculate PageRank\n",
    "pagerank = nx.pagerank(G)\n",
    "# Rank\n",
    "node_importance = sorted(pagerank.items(), key=lambda x:x[1], reverse=True)"
   ]
  },
  {
   "cell_type": "code",
   "execution_count": 33,
   "metadata": {},
   "outputs": [],
   "source": [
    "# Select the n highest nodes\n",
    "n = 30\n",
    "terms_chosen = []\n",
    "for each in node_importance[:n]:\n",
    "    terms_chosen.append(each[0])"
   ]
  },
  {
   "cell_type": "code",
   "execution_count": 34,
   "metadata": {},
   "outputs": [],
   "source": [
    "# Add nodes\n",
    "terms_chosen.extend(['Grain_Tyes','Grain_content','Matrix_Tyes','Matrix_content','Depositional_fabrics','Fossils_Tyes','Fossils_content',\n",
    "                     'Texture_types','Grain_content','Grain_sorting','Grain_rounding','FZ1','FZ2','FZ3','FZ4','FZ5','FZ6','FZ7','FZ8','FZ9',\n",
    "                     'FZ10','SMF1','SMF2','SMF3','SMF4','SMF5','SMF6','SMF7','SMF8','SMF9','SMF10','SMF11','SMF12S','SMF12C','SMF13','SMF15C',\n",
    "                     'SMF15R','SMF15M','SMF16L','SMF16NL','SMF17','SMF18','SMF19','SMF20','SMF21','SMF22','SMF23','SMF24','SMF25','SMF26',\n",
    "                    'FZD10','FZD9','FZD8','FZD7','FZD6','FZD5','FZD4','FZD3','FZD2','FZD1','MSD26','MSD25','MSD24','MSD23','MSD22','MSD21',\n",
    "                     'MSD20','MSD19','MSD18','MSD17','MSD16','MSD15','MSD14','MSD12','MSD11','MSD10','MSD9','MSD8','MSD7','MSD6','MSD5','MSD4',\n",
    "                     'MSD3','MSD2','MSD1'])"
   ]
  },
  {
   "cell_type": "code",
   "execution_count": 35,
   "metadata": {},
   "outputs": [],
   "source": [
    "# Add nodes\n",
    "terms_chosen = []\n",
    "terms_chosen.extend(['FZ1','FZ2','FZ3','FZ4','FZ5','FZ6','FZ7','FZ8','FZ9', 'FZ10',\n",
    "                     'SMF1','SMF2','SMF3','SMF4','SMF5','SMF6','SMF7','SMF8','SMF9',\n",
    "                     'SMF10','SMF11','SMF12S','SMF12C','SMF13','SMF15C', 'SMF15R',\n",
    "                     'SMF15M','SMF16L','SMF16NL','SMF17','SMF18','SMF19','SMF20',\n",
    "                     'SMF21','SMF22','SMF23','SMF24','SMF25','SMF26', \n",
    "                     'FZD10','FZD9','FZD8','FZD7','FZD6','FZD5','FZD4','FZD3','FZD2',\n",
    "                     'FZD1','MSD26','MSD25','MSD24','MSD23','MSD22','MSD21', 'MSD20',\n",
    "                     'MSD19','MSD18','MSD17','MSD16','MSD15','MSD14','MSD12','MSD11',\n",
    "                     'MSD10','MSD9','MSD8','MSD7','MSD6','MSD5','MSD4','MSD3','MSD2','MSD1'])\n"
   ]
  },
  {
   "cell_type": "code",
   "execution_count": 36,
   "metadata": {},
   "outputs": [],
   "source": [
    "# Add nodes\n",
    "terms_chosen_FZ = []\n",
    "terms_chosen_FZ.extend(['FZ1','FZ2','FZ3','FZ4','FZ5','FZ6','FZ7','FZ8','FZ9', 'FZ10'])"
   ]
  },
  {
   "cell_type": "code",
   "execution_count": 37,
   "metadata": {},
   "outputs": [
    {
     "data": {
      "text/plain": [
       "['FZ1', 'FZ2', 'FZ3', 'FZ4', 'FZ5', 'FZ6', 'FZ7', 'FZ8', 'FZ9', 'FZ10']"
      ]
     },
     "execution_count": 37,
     "metadata": {},
     "output_type": "execute_result"
    }
   ],
   "source": [
    "terms_chosen_FZ"
   ]
  },
  {
   "cell_type": "code",
   "execution_count": 38,
   "metadata": {},
   "outputs": [],
   "source": [
    "# Add nodes\n",
    "terms_chosen_SMF = []\n",
    "terms_chosen_SMF.extend(['SMF1','SMF2','SMF3','SMF4','SMF5','SMF6','SMF7','SMF8','SMF9',\n",
    "                     'SMF10','SMF11','SMF12S','SMF12C','SMF13','SMF15C', 'SMF15R',\n",
    "                     'SMF15M','SMF16L','SMF16NL','SMF17','SMF18','SMF19','SMF20',\n",
    "                     'SMF21','SMF22','SMF23','SMF24','SMF25','SMF26'])"
   ]
  },
  {
   "cell_type": "code",
   "execution_count": 39,
   "metadata": {},
   "outputs": [
    {
     "data": {
      "text/plain": [
       "['SMF1',\n",
       " 'SMF2',\n",
       " 'SMF3',\n",
       " 'SMF4',\n",
       " 'SMF5',\n",
       " 'SMF6',\n",
       " 'SMF7',\n",
       " 'SMF8',\n",
       " 'SMF9',\n",
       " 'SMF10',\n",
       " 'SMF11',\n",
       " 'SMF12S',\n",
       " 'SMF12C',\n",
       " 'SMF13',\n",
       " 'SMF15C',\n",
       " 'SMF15R',\n",
       " 'SMF15M',\n",
       " 'SMF16L',\n",
       " 'SMF16NL',\n",
       " 'SMF17',\n",
       " 'SMF18',\n",
       " 'SMF19',\n",
       " 'SMF20',\n",
       " 'SMF21',\n",
       " 'SMF22',\n",
       " 'SMF23',\n",
       " 'SMF24',\n",
       " 'SMF25',\n",
       " 'SMF26']"
      ]
     },
     "execution_count": 39,
     "metadata": {},
     "output_type": "execute_result"
    }
   ],
   "source": [
    "terms_chosen_SMF"
   ]
  },
  {
   "cell_type": "code",
   "execution_count": 40,
   "metadata": {},
   "outputs": [],
   "source": [
    "# Add nodes\n",
    "terms_chosen_FZD = []\n",
    "terms_chosen_FZD.extend(['FZD10','FZD9','FZD8','FZD7','FZD6','FZD5','FZD4','FZD3','FZD2',\n",
    "                     'FZD1'])"
   ]
  },
  {
   "cell_type": "code",
   "execution_count": 41,
   "metadata": {},
   "outputs": [
    {
     "data": {
      "text/plain": [
       "['FZD10',\n",
       " 'FZD9',\n",
       " 'FZD8',\n",
       " 'FZD7',\n",
       " 'FZD6',\n",
       " 'FZD5',\n",
       " 'FZD4',\n",
       " 'FZD3',\n",
       " 'FZD2',\n",
       " 'FZD1']"
      ]
     },
     "execution_count": 41,
     "metadata": {},
     "output_type": "execute_result"
    }
   ],
   "source": [
    "terms_chosen_FZD"
   ]
  },
  {
   "cell_type": "code",
   "execution_count": 42,
   "metadata": {},
   "outputs": [],
   "source": [
    "# Add nodes\n",
    "terms_chosen_MSD = []\n",
    "terms_chosen_MSD.extend(['MSD26','MSD25','MSD24','MSD23','MSD22','MSD21', 'MSD20',\n",
    "                     'MSD19','MSD18','MSD17','MSD16','MSD15','MSD14','MSD12','MSD11',\n",
    "                     'MSD10','MSD9','MSD8','MSD7','MSD6','MSD5','MSD4','MSD3','MSD2','MSD1'])\n"
   ]
  },
  {
   "cell_type": "code",
   "execution_count": 43,
   "metadata": {},
   "outputs": [
    {
     "data": {
      "text/plain": [
       "['MSD26',\n",
       " 'MSD25',\n",
       " 'MSD24',\n",
       " 'MSD23',\n",
       " 'MSD22',\n",
       " 'MSD21',\n",
       " 'MSD20',\n",
       " 'MSD19',\n",
       " 'MSD18',\n",
       " 'MSD17',\n",
       " 'MSD16',\n",
       " 'MSD15',\n",
       " 'MSD14',\n",
       " 'MSD12',\n",
       " 'MSD11',\n",
       " 'MSD10',\n",
       " 'MSD9',\n",
       " 'MSD8',\n",
       " 'MSD7',\n",
       " 'MSD6',\n",
       " 'MSD5',\n",
       " 'MSD4',\n",
       " 'MSD3',\n",
       " 'MSD2',\n",
       " 'MSD1']"
      ]
     },
     "execution_count": 43,
     "metadata": {},
     "output_type": "execute_result"
    }
   ],
   "source": [
    "terms_chosen_MSD"
   ]
  },
  {
   "cell_type": "code",
   "execution_count": 44,
   "metadata": {},
   "outputs": [],
   "source": [
    "# Input word, output indes\n",
    "term2index = model.wv.key_to_index"
   ]
  },
  {
   "cell_type": "code",
   "execution_count": 45,
   "metadata": {},
   "outputs": [],
   "source": [
    "index2term = model.wv.index_to_key\n",
    "term_index = np.array(term2index.values())"
   ]
  },
  {
   "cell_type": "code",
   "execution_count": 46,
   "metadata": {},
   "outputs": [
    {
     "data": {
      "image/png": "[encoded data removed]",
      "text/plain": [
       "<Figure size 1008x1008 with 1 Axes>"
      ]
     },
     "metadata": {
      "needs_background": "light"
     },
     "output_type": "display_data"
    }
   ],
   "source": [
    "# Visualization\n",
    "plt.figure(figsize=(14,14))\n",
    "plt.scatter(embed_2d[:,0], embed_2d[:,1])\n",
    "\n",
    "for item in terms_chosen:\n",
    "    idx = term2index[item]\n",
    "    for i in terms_chosen_SMF:\n",
    "        idx_SMF = term2index[i]\n",
    "        plt.scatter(embed_2d[idx_SMF,0], embed_2d[idx_SMF,1],c='r',s=50)\n",
    "    for j in terms_chosen_FZ:\n",
    "        idx_FZ = term2index[j]\n",
    "        plt.scatter(embed_2d[idx_FZ,0], embed_2d[idx_FZ,1],c='g',s=50)\n",
    "    for k in terms_chosen_FZD:\n",
    "        idx_FZD = term2index[k]\n",
    "        plt.scatter(embed_2d[idx_FZD,0], embed_2d[idx_FZD,1],c='b',s=50)\n",
    "    for l in terms_chosen_MSD:\n",
    "        idx_MSD = term2index[j]\n",
    "        plt.scatter(embed_2d[idx_MSD,0], embed_2d[idx_MSD,1],c='y',s=50)\n",
    "    plt.annotate(item, xy=(embed_2d[idx,0], embed_2d[idx,1]),c='k',fontsize=12)\n",
    "    plt.savefig(\"vis_1.svg\")\n",
    "plt.show()"
   ]
  },
  {
   "cell_type": "markdown",
   "metadata": {},
   "source": [
    "## Two dimensional visualization and embedding of some nodes via TSNE"
   ]
  },
  {
   "cell_type": "markdown",
   "metadata": {},
   "source": [
    "### Two dimensional visualization and embedding of some nodes"
   ]
  },
  {
   "cell_type": "code",
   "execution_count": 47,
   "metadata": {},
   "outputs": [],
   "source": [
    "# From 256 dimensions to 2 dimensions\n",
    "from sklearn.manifold import TSNE\n",
    "tsne = TSNE(n_components=2, n_iter=1000)\n",
    "embed_2d = tsne.fit_transform(X)"
   ]
  },
  {
   "cell_type": "code",
   "execution_count": 48,
   "metadata": {},
   "outputs": [
    {
     "data": {
      "image/png": "[encoded data removed]",
      "text/plain": [
       "<Figure size 1008x1008 with 1 Axes>"
      ]
     },
     "metadata": {
      "needs_background": "light"
     },
     "output_type": "display_data"
    }
   ],
   "source": [
    "plt.figure(figsize=(14,14))\n",
    "plt.scatter(embed_2d[:, 0], embed_2d[:, 1])\n",
    "plt.show()"
   ]
  },
  {
   "cell_type": "markdown",
   "metadata": {},
   "source": [
    "### Two dimensional visualization and embedding of some nodes"
   ]
  },
  {
   "cell_type": "code",
   "execution_count": 65,
   "metadata": {},
   "outputs": [
    {
     "data": {
      "image/png": "[encoded data removed]",
      "text/plain": [
       "<Figure size 1008x1008 with 1 Axes>"
      ]
     },
     "metadata": {
      "needs_background": "light"
     },
     "output_type": "display_data"
    }
   ],
   "source": [
    "plt.figure(figsize=(14,14))\n",
    "plt.scatter(embed_2d[:,0], embed_2d[:,1])\n",
    "\n",
    "for item in terms_chosen:\n",
    "    idx = term2index[item]\n",
    "    for i in terms_chosen_SMF:\n",
    "        idx_SMF = term2index[i]\n",
    "        plt.scatter(embed_2d[idx_SMF,0], embed_2d[idx_SMF,1],c='r',s=50)\n",
    "    for j in terms_chosen_FZ:\n",
    "        idx_FZ = term2index[j]\n",
    "        plt.scatter(embed_2d[idx_FZ,0], embed_2d[idx_FZ,1],c='g',s=50)\n",
    "    for k in terms_chosen_FZD:\n",
    "        idx_FZD = term2index[k]\n",
    "        plt.scatter(embed_2d[idx_FZD,0], embed_2d[idx_FZD,1],c='b',s=50)\n",
    "    for l in terms_chosen_MSD:\n",
    "        idx_MSD = term2index[j]\n",
    "        plt.scatter(embed_2d[idx_MSD,0], embed_2d[idx_MSD,1],c='y',s=50)\n",
    "#     plt.annotate(item, xy=(embed_2d[idx,0], embed_2d[idx,1]),c='k',fontsize=12)\n",
    "    plt.savefig(\"vis.png\")\n",
    "plt.show()"
   ]
  },
  {
   "cell_type": "code",
   "execution_count": 50,
   "metadata": {},
   "outputs": [
    {
     "data": {
      "text/plain": [
       "(213, 2)"
      ]
     },
     "execution_count": 50,
     "metadata": {},
     "output_type": "execute_result"
    }
   ],
   "source": [
    "embed_2d.shape"
   ]
  },
  {
   "cell_type": "markdown",
   "metadata": {},
   "source": [
    "### Export two-dimensional embedding via TSNE"
   ]
  },
  {
   "cell_type": "code",
   "execution_count": 51,
   "metadata": {},
   "outputs": [],
   "source": [
    "terms_chosen_mask = np.zeros(X.shape[0])\n",
    "for item in terms_chosen:\n",
    "    idx = term2index[item]\n",
    "    terms_chosen_mask[idx] = 1"
   ]
  },
  {
   "cell_type": "code",
   "execution_count": 52,
   "metadata": {},
   "outputs": [],
   "source": [
    "df = pd.DataFrame()\n",
    "df['X'] = embed_2d[:,0]\n",
    "df['Y'] = embed_2d[:,1]\n",
    "df['item'] = model.wv.index_to_key\n",
    "df['pagerank'] = pagerank.values()\n",
    "df['chosen'] = terms_chosen_mask"
   ]
  },
  {
   "cell_type": "code",
   "execution_count": 53,
   "metadata": {},
   "outputs": [
    {
     "data": {
      "text/html": [
       "<div>\n",
       "<style scoped>\n",
       "    .dataframe tbody tr th:only-of-type {\n",
       "        vertical-align: middle;\n",
       "    }\n",
       "\n",
       "    .dataframe tbody tr th {\n",
       "        vertical-align: top;\n",
       "    }\n",
       "\n",
       "    .dataframe thead th {\n",
       "        text-align: right;\n",
       "    }\n",
       "</style>\n",
       "<table border=\"1\" class=\"dataframe\">\n",
       "  <thead>\n",
       "    <tr style=\"text-align: right;\">\n",
       "      <th></th>\n",
       "      <th>X</th>\n",
       "      <th>Y</th>\n",
       "      <th>item</th>\n",
       "      <th>pagerank</th>\n",
       "      <th>chosen</th>\n",
       "    </tr>\n",
       "  </thead>\n",
       "  <tbody>\n",
       "    <tr>\n",
       "      <th>0</th>\n",
       "      <td>-2.767000</td>\n",
       "      <td>-10.597633</td>\n",
       "      <td>Grain_Tyes</td>\n",
       "      <td>0.004695</td>\n",
       "      <td>0.0</td>\n",
       "    </tr>\n",
       "    <tr>\n",
       "      <th>1</th>\n",
       "      <td>-11.463583</td>\n",
       "      <td>-6.331543</td>\n",
       "      <td>Texture_types</td>\n",
       "      <td>0.004695</td>\n",
       "      <td>0.0</td>\n",
       "    </tr>\n",
       "    <tr>\n",
       "      <th>2</th>\n",
       "      <td>3.858420</td>\n",
       "      <td>1.929929</td>\n",
       "      <td>Depositional_fabrics</td>\n",
       "      <td>0.001790</td>\n",
       "      <td>0.0</td>\n",
       "    </tr>\n",
       "    <tr>\n",
       "      <th>3</th>\n",
       "      <td>7.686471</td>\n",
       "      <td>-9.348972</td>\n",
       "      <td>Fossils_Tyes</td>\n",
       "      <td>0.008939</td>\n",
       "      <td>0.0</td>\n",
       "    </tr>\n",
       "    <tr>\n",
       "      <th>4</th>\n",
       "      <td>-6.332894</td>\n",
       "      <td>0.928544</td>\n",
       "      <td>Grain_sorting</td>\n",
       "      <td>0.001718</td>\n",
       "      <td>0.0</td>\n",
       "    </tr>\n",
       "    <tr>\n",
       "      <th>...</th>\n",
       "      <td>...</td>\n",
       "      <td>...</td>\n",
       "      <td>...</td>\n",
       "      <td>...</td>\n",
       "      <td>...</td>\n",
       "    </tr>\n",
       "    <tr>\n",
       "      <th>208</th>\n",
       "      <td>-9.037527</td>\n",
       "      <td>-5.587147</td>\n",
       "      <td>trapped and bound together by non-skeletal mic...</td>\n",
       "      <td>0.001787</td>\n",
       "      <td>0.0</td>\n",
       "    </tr>\n",
       "    <tr>\n",
       "      <th>209</th>\n",
       "      <td>-2.741071</td>\n",
       "      <td>-8.797654</td>\n",
       "      <td>ooid</td>\n",
       "      <td>0.001791</td>\n",
       "      <td>0.0</td>\n",
       "    </tr>\n",
       "    <tr>\n",
       "      <th>210</th>\n",
       "      <td>-2.222160</td>\n",
       "      <td>-8.323034</td>\n",
       "      <td>peloids</td>\n",
       "      <td>0.001787</td>\n",
       "      <td>0.0</td>\n",
       "    </tr>\n",
       "    <tr>\n",
       "      <th>211</th>\n",
       "      <td>-7.685882</td>\n",
       "      <td>-5.431829</td>\n",
       "      <td>grainstone</td>\n",
       "      <td>0.001791</td>\n",
       "      <td>0.0</td>\n",
       "    </tr>\n",
       "    <tr>\n",
       "      <th>212</th>\n",
       "      <td>5.534261</td>\n",
       "      <td>-8.754584</td>\n",
       "      <td>benthic foraminifera</td>\n",
       "      <td>0.001816</td>\n",
       "      <td>0.0</td>\n",
       "    </tr>\n",
       "  </tbody>\n",
       "</table>\n",
       "<p>213 rows × 5 columns</p>\n",
       "</div>"
      ],
      "text/plain": [
       "             X          Y                                               item  \\\n",
       "0    -2.767000 -10.597633                                         Grain_Tyes   \n",
       "1   -11.463583  -6.331543                                      Texture_types   \n",
       "2     3.858420   1.929929                               Depositional_fabrics   \n",
       "3     7.686471  -9.348972                                       Fossils_Tyes   \n",
       "4    -6.332894   0.928544                                      Grain_sorting   \n",
       "..         ...        ...                                                ...   \n",
       "208  -9.037527  -5.587147  trapped and bound together by non-skeletal mic...   \n",
       "209  -2.741071  -8.797654                                               ooid   \n",
       "210  -2.222160  -8.323034                                            peloids   \n",
       "211  -7.685882  -5.431829                                         grainstone   \n",
       "212   5.534261  -8.754584                               benthic foraminifera   \n",
       "\n",
       "     pagerank  chosen  \n",
       "0    0.004695     0.0  \n",
       "1    0.004695     0.0  \n",
       "2    0.001790     0.0  \n",
       "3    0.008939     0.0  \n",
       "4    0.001718     0.0  \n",
       "..        ...     ...  \n",
       "208  0.001787     0.0  \n",
       "209  0.001791     0.0  \n",
       "210  0.001787     0.0  \n",
       "211  0.001791     0.0  \n",
       "212  0.001816     0.0  \n",
       "\n",
       "[213 rows x 5 columns]"
      ]
     },
     "execution_count": 53,
     "metadata": {},
     "output_type": "execute_result"
    }
   ],
   "source": [
    "df"
   ]
  },
  {
   "cell_type": "code",
   "execution_count": 54,
   "metadata": {},
   "outputs": [],
   "source": [
    "df.to_csv('tsne_vis_2d.csv',index=False)"
   ]
  },
  {
   "cell_type": "markdown",
   "metadata": {},
   "source": [
    "### Three dimensional visualization and embedding of all nodes"
   ]
  },
  {
   "cell_type": "code",
   "execution_count": 55,
   "metadata": {},
   "outputs": [],
   "source": [
    "from sklearn.manifold import TSNE\n",
    "tsne = TSNE(n_components=3, n_iter=1000)\n",
    "embed_3d = tsne.fit_transform(X)"
   ]
  },
  {
   "cell_type": "markdown",
   "metadata": {},
   "source": [
    "### Export three dimensional embedding after TSNE reduce dimonsion"
   ]
  },
  {
   "cell_type": "code",
   "execution_count": 56,
   "metadata": {},
   "outputs": [],
   "source": [
    "df = pd.DataFrame()\n",
    "df['X'] = embed_3d[:,0]\n",
    "df['Y'] = embed_3d[:,1]\n",
    "df['Z'] = embed_3d[:,2]\n",
    "df['item'] = model.wv.index_to_key\n",
    "df['pagerank'] = pagerank.values()\n",
    "df['chosen'] = terms_chosen_mask"
   ]
  },
  {
   "cell_type": "code",
   "execution_count": 57,
   "metadata": {},
   "outputs": [
    {
     "data": {
      "text/html": [
       "<div>\n",
       "<style scoped>\n",
       "    .dataframe tbody tr th:only-of-type {\n",
       "        vertical-align: middle;\n",
       "    }\n",
       "\n",
       "    .dataframe tbody tr th {\n",
       "        vertical-align: top;\n",
       "    }\n",
       "\n",
       "    .dataframe thead th {\n",
       "        text-align: right;\n",
       "    }\n",
       "</style>\n",
       "<table border=\"1\" class=\"dataframe\">\n",
       "  <thead>\n",
       "    <tr style=\"text-align: right;\">\n",
       "      <th></th>\n",
       "      <th>X</th>\n",
       "      <th>Y</th>\n",
       "      <th>Z</th>\n",
       "      <th>item</th>\n",
       "      <th>pagerank</th>\n",
       "      <th>chosen</th>\n",
       "    </tr>\n",
       "  </thead>\n",
       "  <tbody>\n",
       "    <tr>\n",
       "      <th>0</th>\n",
       "      <td>48.552692</td>\n",
       "      <td>-97.460838</td>\n",
       "      <td>-53.268394</td>\n",
       "      <td>Grain_Tyes</td>\n",
       "      <td>0.004695</td>\n",
       "      <td>0.0</td>\n",
       "    </tr>\n",
       "    <tr>\n",
       "      <th>1</th>\n",
       "      <td>98.140419</td>\n",
       "      <td>-5.184582</td>\n",
       "      <td>-132.383133</td>\n",
       "      <td>Texture_types</td>\n",
       "      <td>0.004695</td>\n",
       "      <td>0.0</td>\n",
       "    </tr>\n",
       "    <tr>\n",
       "      <th>2</th>\n",
       "      <td>40.133251</td>\n",
       "      <td>171.328476</td>\n",
       "      <td>1.004631</td>\n",
       "      <td>Depositional_fabrics</td>\n",
       "      <td>0.001790</td>\n",
       "      <td>0.0</td>\n",
       "    </tr>\n",
       "    <tr>\n",
       "      <th>3</th>\n",
       "      <td>-39.438259</td>\n",
       "      <td>101.325760</td>\n",
       "      <td>-68.615913</td>\n",
       "      <td>Fossils_Tyes</td>\n",
       "      <td>0.008939</td>\n",
       "      <td>0.0</td>\n",
       "    </tr>\n",
       "    <tr>\n",
       "      <th>4</th>\n",
       "      <td>-93.616821</td>\n",
       "      <td>-31.613308</td>\n",
       "      <td>-128.320618</td>\n",
       "      <td>Grain_sorting</td>\n",
       "      <td>0.001718</td>\n",
       "      <td>0.0</td>\n",
       "    </tr>\n",
       "    <tr>\n",
       "      <th>...</th>\n",
       "      <td>...</td>\n",
       "      <td>...</td>\n",
       "      <td>...</td>\n",
       "      <td>...</td>\n",
       "      <td>...</td>\n",
       "      <td>...</td>\n",
       "    </tr>\n",
       "    <tr>\n",
       "      <th>208</th>\n",
       "      <td>71.356552</td>\n",
       "      <td>32.058529</td>\n",
       "      <td>-75.419807</td>\n",
       "      <td>trapped and bound together by non-skeletal mic...</td>\n",
       "      <td>0.001787</td>\n",
       "      <td>0.0</td>\n",
       "    </tr>\n",
       "    <tr>\n",
       "      <th>209</th>\n",
       "      <td>-114.953468</td>\n",
       "      <td>-22.312386</td>\n",
       "      <td>112.578102</td>\n",
       "      <td>ooid</td>\n",
       "      <td>0.001791</td>\n",
       "      <td>0.0</td>\n",
       "    </tr>\n",
       "    <tr>\n",
       "      <th>210</th>\n",
       "      <td>-3.922546</td>\n",
       "      <td>-103.111359</td>\n",
       "      <td>-89.200577</td>\n",
       "      <td>peloids</td>\n",
       "      <td>0.001787</td>\n",
       "      <td>0.0</td>\n",
       "    </tr>\n",
       "    <tr>\n",
       "      <th>211</th>\n",
       "      <td>91.643738</td>\n",
       "      <td>31.062744</td>\n",
       "      <td>-45.402088</td>\n",
       "      <td>grainstone</td>\n",
       "      <td>0.001791</td>\n",
       "      <td>0.0</td>\n",
       "    </tr>\n",
       "    <tr>\n",
       "      <th>212</th>\n",
       "      <td>-83.047554</td>\n",
       "      <td>17.501303</td>\n",
       "      <td>-42.471039</td>\n",
       "      <td>benthic foraminifera</td>\n",
       "      <td>0.001816</td>\n",
       "      <td>0.0</td>\n",
       "    </tr>\n",
       "  </tbody>\n",
       "</table>\n",
       "<p>213 rows × 6 columns</p>\n",
       "</div>"
      ],
      "text/plain": [
       "              X           Y           Z  \\\n",
       "0     48.552692  -97.460838  -53.268394   \n",
       "1     98.140419   -5.184582 -132.383133   \n",
       "2     40.133251  171.328476    1.004631   \n",
       "3    -39.438259  101.325760  -68.615913   \n",
       "4    -93.616821  -31.613308 -128.320618   \n",
       "..          ...         ...         ...   \n",
       "208   71.356552   32.058529  -75.419807   \n",
       "209 -114.953468  -22.312386  112.578102   \n",
       "210   -3.922546 -103.111359  -89.200577   \n",
       "211   91.643738   31.062744  -45.402088   \n",
       "212  -83.047554   17.501303  -42.471039   \n",
       "\n",
       "                                                  item  pagerank  chosen  \n",
       "0                                           Grain_Tyes  0.004695     0.0  \n",
       "1                                        Texture_types  0.004695     0.0  \n",
       "2                                 Depositional_fabrics  0.001790     0.0  \n",
       "3                                         Fossils_Tyes  0.008939     0.0  \n",
       "4                                        Grain_sorting  0.001718     0.0  \n",
       "..                                                 ...       ...     ...  \n",
       "208  trapped and bound together by non-skeletal mic...  0.001787     0.0  \n",
       "209                                               ooid  0.001791     0.0  \n",
       "210                                            peloids  0.001787     0.0  \n",
       "211                                         grainstone  0.001791     0.0  \n",
       "212                               benthic foraminifera  0.001816     0.0  \n",
       "\n",
       "[213 rows x 6 columns]"
      ]
     },
     "execution_count": 57,
     "metadata": {},
     "output_type": "execute_result"
    }
   ],
   "source": [
    "df"
   ]
  },
  {
   "cell_type": "code",
   "execution_count": 58,
   "metadata": {},
   "outputs": [],
   "source": [
    "df.to_csv('tsne_vis_3d.csv',index=False)"
   ]
  },
  {
   "cell_type": "code",
   "execution_count": 59,
   "metadata": {},
   "outputs": [],
   "source": [
    "# Set item as index to future operation\n",
    "df = df.set_index('item')"
   ]
  },
  {
   "cell_type": "code",
   "execution_count": 60,
   "metadata": {},
   "outputs": [
    {
     "data": {
      "text/html": [
       "<div>\n",
       "<style scoped>\n",
       "    .dataframe tbody tr th:only-of-type {\n",
       "        vertical-align: middle;\n",
       "    }\n",
       "\n",
       "    .dataframe tbody tr th {\n",
       "        vertical-align: top;\n",
       "    }\n",
       "\n",
       "    .dataframe thead th {\n",
       "        text-align: right;\n",
       "    }\n",
       "</style>\n",
       "<table border=\"1\" class=\"dataframe\">\n",
       "  <thead>\n",
       "    <tr style=\"text-align: right;\">\n",
       "      <th></th>\n",
       "      <th>X</th>\n",
       "      <th>Y</th>\n",
       "      <th>Z</th>\n",
       "      <th>pagerank</th>\n",
       "      <th>chosen</th>\n",
       "    </tr>\n",
       "    <tr>\n",
       "      <th>item</th>\n",
       "      <th></th>\n",
       "      <th></th>\n",
       "      <th></th>\n",
       "      <th></th>\n",
       "      <th></th>\n",
       "    </tr>\n",
       "  </thead>\n",
       "  <tbody>\n",
       "    <tr>\n",
       "      <th>Grain_Tyes</th>\n",
       "      <td>48.552692</td>\n",
       "      <td>-97.460838</td>\n",
       "      <td>-53.268394</td>\n",
       "      <td>0.004695</td>\n",
       "      <td>0.0</td>\n",
       "    </tr>\n",
       "    <tr>\n",
       "      <th>Texture_types</th>\n",
       "      <td>98.140419</td>\n",
       "      <td>-5.184582</td>\n",
       "      <td>-132.383133</td>\n",
       "      <td>0.004695</td>\n",
       "      <td>0.0</td>\n",
       "    </tr>\n",
       "    <tr>\n",
       "      <th>Depositional_fabrics</th>\n",
       "      <td>40.133251</td>\n",
       "      <td>171.328476</td>\n",
       "      <td>1.004631</td>\n",
       "      <td>0.001790</td>\n",
       "      <td>0.0</td>\n",
       "    </tr>\n",
       "    <tr>\n",
       "      <th>Fossils_Tyes</th>\n",
       "      <td>-39.438259</td>\n",
       "      <td>101.325760</td>\n",
       "      <td>-68.615913</td>\n",
       "      <td>0.008939</td>\n",
       "      <td>0.0</td>\n",
       "    </tr>\n",
       "    <tr>\n",
       "      <th>Grain_sorting</th>\n",
       "      <td>-93.616821</td>\n",
       "      <td>-31.613308</td>\n",
       "      <td>-128.320618</td>\n",
       "      <td>0.001718</td>\n",
       "      <td>0.0</td>\n",
       "    </tr>\n",
       "    <tr>\n",
       "      <th>...</th>\n",
       "      <td>...</td>\n",
       "      <td>...</td>\n",
       "      <td>...</td>\n",
       "      <td>...</td>\n",
       "      <td>...</td>\n",
       "    </tr>\n",
       "    <tr>\n",
       "      <th>trapped and bound together by non-skeletal microbes and algae</th>\n",
       "      <td>71.356552</td>\n",
       "      <td>32.058529</td>\n",
       "      <td>-75.419807</td>\n",
       "      <td>0.001787</td>\n",
       "      <td>0.0</td>\n",
       "    </tr>\n",
       "    <tr>\n",
       "      <th>ooid</th>\n",
       "      <td>-114.953468</td>\n",
       "      <td>-22.312386</td>\n",
       "      <td>112.578102</td>\n",
       "      <td>0.001791</td>\n",
       "      <td>0.0</td>\n",
       "    </tr>\n",
       "    <tr>\n",
       "      <th>peloids</th>\n",
       "      <td>-3.922546</td>\n",
       "      <td>-103.111359</td>\n",
       "      <td>-89.200577</td>\n",
       "      <td>0.001787</td>\n",
       "      <td>0.0</td>\n",
       "    </tr>\n",
       "    <tr>\n",
       "      <th>grainstone</th>\n",
       "      <td>91.643738</td>\n",
       "      <td>31.062744</td>\n",
       "      <td>-45.402088</td>\n",
       "      <td>0.001791</td>\n",
       "      <td>0.0</td>\n",
       "    </tr>\n",
       "    <tr>\n",
       "      <th>benthic foraminifera</th>\n",
       "      <td>-83.047554</td>\n",
       "      <td>17.501303</td>\n",
       "      <td>-42.471039</td>\n",
       "      <td>0.001816</td>\n",
       "      <td>0.0</td>\n",
       "    </tr>\n",
       "  </tbody>\n",
       "</table>\n",
       "<p>213 rows × 5 columns</p>\n",
       "</div>"
      ],
      "text/plain": [
       "                                                             X           Y  \\\n",
       "item                                                                         \n",
       "Grain_Tyes                                           48.552692  -97.460838   \n",
       "Texture_types                                        98.140419   -5.184582   \n",
       "Depositional_fabrics                                 40.133251  171.328476   \n",
       "Fossils_Tyes                                        -39.438259  101.325760   \n",
       "Grain_sorting                                       -93.616821  -31.613308   \n",
       "...                                                        ...         ...   \n",
       "trapped and bound together by non-skeletal micr...   71.356552   32.058529   \n",
       "ooid                                               -114.953468  -22.312386   \n",
       "peloids                                              -3.922546 -103.111359   \n",
       "grainstone                                           91.643738   31.062744   \n",
       "benthic foraminifera                                -83.047554   17.501303   \n",
       "\n",
       "                                                             Z  pagerank  \\\n",
       "item                                                                       \n",
       "Grain_Tyes                                          -53.268394  0.004695   \n",
       "Texture_types                                      -132.383133  0.004695   \n",
       "Depositional_fabrics                                  1.004631  0.001790   \n",
       "Fossils_Tyes                                        -68.615913  0.008939   \n",
       "Grain_sorting                                      -128.320618  0.001718   \n",
       "...                                                        ...       ...   \n",
       "trapped and bound together by non-skeletal micr...  -75.419807  0.001787   \n",
       "ooid                                                112.578102  0.001791   \n",
       "peloids                                             -89.200577  0.001787   \n",
       "grainstone                                          -45.402088  0.001791   \n",
       "benthic foraminifera                                -42.471039  0.001816   \n",
       "\n",
       "                                                    chosen  \n",
       "item                                                        \n",
       "Grain_Tyes                                             0.0  \n",
       "Texture_types                                          0.0  \n",
       "Depositional_fabrics                                   0.0  \n",
       "Fossils_Tyes                                           0.0  \n",
       "Grain_sorting                                          0.0  \n",
       "...                                                    ...  \n",
       "trapped and bound together by non-skeletal micr...     0.0  \n",
       "ooid                                                   0.0  \n",
       "peloids                                                0.0  \n",
       "grainstone                                             0.0  \n",
       "benthic foraminifera                                   0.0  \n",
       "\n",
       "[213 rows x 5 columns]"
      ]
     },
     "execution_count": 60,
     "metadata": {},
     "output_type": "execute_result"
    }
   ],
   "source": [
    "df"
   ]
  },
  {
   "cell_type": "code",
   "execution_count": 61,
   "metadata": {},
   "outputs": [
    {
     "data": {
      "text/plain": [
       "48.55269241333008"
      ]
     },
     "execution_count": 61,
     "metadata": {},
     "output_type": "execute_result"
    }
   ],
   "source": [
    "# DataFrame is used to preseve embedding results\n",
    "# Use \".loc\" method  to lacalize nodes and silces methods to search out XYZ\n",
    "# \".loc\" method returns series\n",
    "df.loc['Grain_Tyes',['X','Y','Z']]['X']"
   ]
  },
  {
   "cell_type": "code",
   "execution_count": 62,
   "metadata": {},
   "outputs": [],
   "source": [
    "# Search the vector of words\n",
    "def w2v_search(word):\n",
    "    \n",
    "    v = df.loc[word, ['X','Y','Z']]\n",
    "    \n",
    "    return v"
   ]
  },
  {
   "cell_type": "code",
   "execution_count": 63,
   "metadata": {},
   "outputs": [],
   "source": [
    "# Calculate the Euler distance of vectors\n",
    "def distance_Euler(start, terminal):\n",
    "    \n",
    "    dis_x = (w2v_search(start)['X'] - w2v_search(terminal)['X'])**2\n",
    "    dis_y = (w2v_search(start)['Y'] - w2v_search(terminal)['Y'])**2\n",
    "    dis_z = (w2v_search(start)['Z'] - w2v_search(terminal)['Z'])**2\n",
    "    distance = np.sqrt(dis_x + dis_y + dis_z)\n",
    "    \n",
    "    return distance"
   ]
  },
  {
   "cell_type": "code",
   "execution_count": 66,
   "metadata": {},
   "outputs": [],
   "source": [
    "# Distance test\n",
    "dis1 = distance_Euler('Non-laminated','SMF8')\n",
    "dis2 = distance_Euler('SMF7','SMF8')\n",
    "dis3 = distance_Euler('FZ4','SMF8')"
   ]
  },
  {
   "cell_type": "code",
   "execution_count": 72,
   "metadata": {},
   "outputs": [
    {
     "data": {
      "text/plain": [
       "217.9345254789654"
      ]
     },
     "execution_count": 72,
     "metadata": {},
     "output_type": "execute_result"
    }
   ],
   "source": [
    "dis1"
   ]
  },
  {
   "cell_type": "code",
   "execution_count": 73,
   "metadata": {},
   "outputs": [
    {
     "data": {
      "text/plain": [
       "186.25457887214245"
      ]
     },
     "execution_count": 73,
     "metadata": {},
     "output_type": "execute_result"
    }
   ],
   "source": [
    "dis2"
   ]
  },
  {
   "cell_type": "code",
   "execution_count": 74,
   "metadata": {},
   "outputs": [
    {
     "data": {
      "text/plain": [
       "174.01245252452424"
      ]
     },
     "execution_count": 74,
     "metadata": {},
     "output_type": "execute_result"
    }
   ],
   "source": [
    "dis3"
   ]
  },
  {
   "cell_type": "markdown",
   "metadata": {},
   "source": [
    "### From the knowledge graph on Neo4j, SMF8 is directly connected with FZ4, and SMF7 is adjacant while disconnected with SMF8, but Non-laminated is disadjacant and undirectly connected with SMF8. Based on it the ideal distance should be like: distance (SMF8, FZ4) < distance (SMF7, SMF8) < distance (Non-laminated, SMF8). The calculated distance is like: dis3 (174.01) < dis2 (186.25) < dis1 (217.93). Calculated distance is same with ideal ones so that Euler distance is powerful to quantity the distance of knowledge graph."
   ]
  },
  {
   "cell_type": "code",
   "execution_count": 75,
   "metadata": {},
   "outputs": [],
   "source": [
    "# Define a DataFrame, which the sequential int numbers (0，1，2，3......n) are index and standard microfacies (SMF1,SMF2,SMF3,......SMFn) \n",
    "# are objects, for searching\n",
    "smf = ['SMF1','SMF2','SMF3','SMF4','SMF5','SMF6','SMF7','SMF8','SMF9','SMF10','SMF11','SMF12S','SMF12C','SMF13',\n",
    "                   'SMF15C','SMF15R','SMF15M','SMF16L','SMF16NL','SMF17','SMF18','SMF19','SMF20','SMF21','SMF22','SMF23',\n",
    "                   'SMF24','SMF25','SMF26']\n",
    "smf = pd.DataFrame(smf)"
   ]
  },
  {
   "cell_type": "code",
   "execution_count": 76,
   "metadata": {},
   "outputs": [
    {
     "data": {
      "text/html": [
       "<div>\n",
       "<style scoped>\n",
       "    .dataframe tbody tr th:only-of-type {\n",
       "        vertical-align: middle;\n",
       "    }\n",
       "\n",
       "    .dataframe tbody tr th {\n",
       "        vertical-align: top;\n",
       "    }\n",
       "\n",
       "    .dataframe thead th {\n",
       "        text-align: right;\n",
       "    }\n",
       "</style>\n",
       "<table border=\"1\" class=\"dataframe\">\n",
       "  <thead>\n",
       "    <tr style=\"text-align: right;\">\n",
       "      <th></th>\n",
       "      <th>0</th>\n",
       "    </tr>\n",
       "  </thead>\n",
       "  <tbody>\n",
       "    <tr>\n",
       "      <th>0</th>\n",
       "      <td>SMF1</td>\n",
       "    </tr>\n",
       "    <tr>\n",
       "      <th>1</th>\n",
       "      <td>SMF2</td>\n",
       "    </tr>\n",
       "    <tr>\n",
       "      <th>2</th>\n",
       "      <td>SMF3</td>\n",
       "    </tr>\n",
       "    <tr>\n",
       "      <th>3</th>\n",
       "      <td>SMF4</td>\n",
       "    </tr>\n",
       "    <tr>\n",
       "      <th>4</th>\n",
       "      <td>SMF5</td>\n",
       "    </tr>\n",
       "    <tr>\n",
       "      <th>5</th>\n",
       "      <td>SMF6</td>\n",
       "    </tr>\n",
       "    <tr>\n",
       "      <th>6</th>\n",
       "      <td>SMF7</td>\n",
       "    </tr>\n",
       "    <tr>\n",
       "      <th>7</th>\n",
       "      <td>SMF8</td>\n",
       "    </tr>\n",
       "    <tr>\n",
       "      <th>8</th>\n",
       "      <td>SMF9</td>\n",
       "    </tr>\n",
       "    <tr>\n",
       "      <th>9</th>\n",
       "      <td>SMF10</td>\n",
       "    </tr>\n",
       "    <tr>\n",
       "      <th>10</th>\n",
       "      <td>SMF11</td>\n",
       "    </tr>\n",
       "    <tr>\n",
       "      <th>11</th>\n",
       "      <td>SMF12S</td>\n",
       "    </tr>\n",
       "    <tr>\n",
       "      <th>12</th>\n",
       "      <td>SMF12C</td>\n",
       "    </tr>\n",
       "    <tr>\n",
       "      <th>13</th>\n",
       "      <td>SMF13</td>\n",
       "    </tr>\n",
       "    <tr>\n",
       "      <th>14</th>\n",
       "      <td>SMF15C</td>\n",
       "    </tr>\n",
       "    <tr>\n",
       "      <th>15</th>\n",
       "      <td>SMF15R</td>\n",
       "    </tr>\n",
       "    <tr>\n",
       "      <th>16</th>\n",
       "      <td>SMF15M</td>\n",
       "    </tr>\n",
       "    <tr>\n",
       "      <th>17</th>\n",
       "      <td>SMF16L</td>\n",
       "    </tr>\n",
       "    <tr>\n",
       "      <th>18</th>\n",
       "      <td>SMF16NL</td>\n",
       "    </tr>\n",
       "    <tr>\n",
       "      <th>19</th>\n",
       "      <td>SMF17</td>\n",
       "    </tr>\n",
       "    <tr>\n",
       "      <th>20</th>\n",
       "      <td>SMF18</td>\n",
       "    </tr>\n",
       "    <tr>\n",
       "      <th>21</th>\n",
       "      <td>SMF19</td>\n",
       "    </tr>\n",
       "    <tr>\n",
       "      <th>22</th>\n",
       "      <td>SMF20</td>\n",
       "    </tr>\n",
       "    <tr>\n",
       "      <th>23</th>\n",
       "      <td>SMF21</td>\n",
       "    </tr>\n",
       "    <tr>\n",
       "      <th>24</th>\n",
       "      <td>SMF22</td>\n",
       "    </tr>\n",
       "    <tr>\n",
       "      <th>25</th>\n",
       "      <td>SMF23</td>\n",
       "    </tr>\n",
       "    <tr>\n",
       "      <th>26</th>\n",
       "      <td>SMF24</td>\n",
       "    </tr>\n",
       "    <tr>\n",
       "      <th>27</th>\n",
       "      <td>SMF25</td>\n",
       "    </tr>\n",
       "    <tr>\n",
       "      <th>28</th>\n",
       "      <td>SMF26</td>\n",
       "    </tr>\n",
       "  </tbody>\n",
       "</table>\n",
       "</div>"
      ],
      "text/plain": [
       "          0\n",
       "0      SMF1\n",
       "1      SMF2\n",
       "2      SMF3\n",
       "3      SMF4\n",
       "4      SMF5\n",
       "5      SMF6\n",
       "6      SMF7\n",
       "7      SMF8\n",
       "8      SMF9\n",
       "9     SMF10\n",
       "10    SMF11\n",
       "11   SMF12S\n",
       "12   SMF12C\n",
       "13    SMF13\n",
       "14   SMF15C\n",
       "15   SMF15R\n",
       "16   SMF15M\n",
       "17   SMF16L\n",
       "18  SMF16NL\n",
       "19    SMF17\n",
       "20    SMF18\n",
       "21    SMF19\n",
       "22    SMF20\n",
       "23    SMF21\n",
       "24    SMF22\n",
       "25    SMF23\n",
       "26    SMF24\n",
       "27    SMF25\n",
       "28    SMF26"
      ]
     },
     "execution_count": 76,
     "metadata": {},
     "output_type": "execute_result"
    }
   ],
   "source": [
    "smf"
   ]
  },
  {
   "cell_type": "code",
   "execution_count": 77,
   "metadata": {},
   "outputs": [],
   "source": [
    "# Create softmax function and modify distance to probability\n",
    "def softmax_dis(dis):\n",
    "    \n",
    "    dis_max = np.max(dis)\n",
    "    dis_min = np.min(dis)\n",
    "    dis = dis/(dis_max - dis_min)\n",
    "    dis = np.exp((1/dis).T)\n",
    "    total = dis.sum(axis=0)\n",
    "    result = pd.DataFrame(dis/total)\n",
    "    \n",
    "    return result.max()"
   ]
  },
  {
   "cell_type": "code",
   "execution_count": 78,
   "metadata": {},
   "outputs": [],
   "source": [
    "# Calculate distance of multi input\n",
    "\n",
    "# sentence contains a series features\n",
    "# For example,after petrologic analysis, information got as: [Grain_Types:Bioclastic,\n",
    "# Grain_content:Common, Matrix_Types:Micrite ,Matrix_content:Common,\n",
    "# Fossils_Types:Crinoids, brachiopods, bryozoans, and scattered rugose corals,\n",
    "# Fossils_content:Common,Depositional fabrics:Strongly burrowed ,Texture types:Wackestone]\n",
    "# sentence is a list：['Bioclastic','Common','Micrite','Common',\n",
    "# 'Crinoids, brachiopods, bryozoans, and scattered rugose corals','Common','Strongly burrowed','Wackestone' ]\n",
    "\n",
    "def f2smf (sentence):\n",
    "    \n",
    "    classification = [0]*len(sentence)\n",
    "    \n",
    "    for i in range(len(sentence)):\n",
    "        dis = [0]*28\n",
    "        for j in range(28):\n",
    "            dis[j] = int(distance_Euler(sentence[i],smf.iloc[j]))\n",
    "            dis.append(dis[j])\n",
    "            Dis = np.array(dis)\n",
    "            classification[i] = softmax_dis(Dis)\n",
    "            classification.append(classification[i])\n",
    "    \n",
    "    classification = np.array(classification)\n",
    "    classification = classification.reshape(29,8)\n",
    "    classification = np.dot(classification, np.ones(8).reshape(8,1))\n",
    "    classification = pd.DataFrame(classification, index = smf)\n",
    "            \n",
    "    return classification.T"
   ]
  },
  {
   "cell_type": "code",
   "execution_count": 79,
   "metadata": {},
   "outputs": [
    {
     "name": "stderr",
     "output_type": "stream",
     "text": [
      "<ipython-input-77-ae8f73df0cbd>:7: RuntimeWarning: divide by zero encountered in true_divide\n",
      "  dis = np.exp((1/dis).T)\n",
      "<ipython-input-77-ae8f73df0cbd>:9: RuntimeWarning: invalid value encountered in true_divide\n",
      "  result = pd.DataFrame(dis/total)\n"
     ]
    }
   ],
   "source": [
    "id_73 = f2smf(['Bioclastic','common','Micrite',\n",
    "       'common','crinoids',\n",
    "       'common',\n",
    "       'Strongly burrowed',\n",
    "       'wackestone'])"
   ]
  },
  {
   "cell_type": "code",
   "execution_count": 87,
   "metadata": {},
   "outputs": [
    {
     "data": {
      "text/html": [
       "<div>\n",
       "<style scoped>\n",
       "    .dataframe tbody tr th:only-of-type {\n",
       "        vertical-align: middle;\n",
       "    }\n",
       "\n",
       "    .dataframe tbody tr th {\n",
       "        vertical-align: top;\n",
       "    }\n",
       "\n",
       "    .dataframe thead th {\n",
       "        text-align: right;\n",
       "    }\n",
       "</style>\n",
       "<table border=\"1\" class=\"dataframe\">\n",
       "  <thead>\n",
       "    <tr style=\"text-align: right;\">\n",
       "      <th></th>\n",
       "      <th>SMF1</th>\n",
       "      <th>0</th>\n",
       "    </tr>\n",
       "  </thead>\n",
       "  <tbody>\n",
       "    <tr>\n",
       "      <th>0</th>\n",
       "      <td>SMF2</td>\n",
       "      <td>0.00</td>\n",
       "    </tr>\n",
       "    <tr>\n",
       "      <th>1</th>\n",
       "      <td>SMF3</td>\n",
       "      <td>0.00</td>\n",
       "    </tr>\n",
       "    <tr>\n",
       "      <th>2</th>\n",
       "      <td>SMF4</td>\n",
       "      <td>0.00</td>\n",
       "    </tr>\n",
       "    <tr>\n",
       "      <th>3</th>\n",
       "      <td>SMF5</td>\n",
       "      <td>0.01</td>\n",
       "    </tr>\n",
       "    <tr>\n",
       "      <th>4</th>\n",
       "      <td>SMF6</td>\n",
       "      <td>0.02</td>\n",
       "    </tr>\n",
       "    <tr>\n",
       "      <th>5</th>\n",
       "      <td>SMF7</td>\n",
       "      <td>0.02</td>\n",
       "    </tr>\n",
       "    <tr>\n",
       "      <th>6</th>\n",
       "      <td>SMF8</td>\n",
       "      <td>0.02</td>\n",
       "    </tr>\n",
       "    <tr>\n",
       "      <th>7</th>\n",
       "      <td>SMF9</td>\n",
       "      <td>0.93</td>\n",
       "    </tr>\n",
       "    <tr>\n",
       "      <th>8</th>\n",
       "      <td>SMF10</td>\n",
       "      <td>0.00</td>\n",
       "    </tr>\n",
       "    <tr>\n",
       "      <th>9</th>\n",
       "      <td>SMF11</td>\n",
       "      <td>0.00</td>\n",
       "    </tr>\n",
       "    <tr>\n",
       "      <th>10</th>\n",
       "      <td>SMF12</td>\n",
       "      <td>0.00</td>\n",
       "    </tr>\n",
       "    <tr>\n",
       "      <th>11</th>\n",
       "      <td>SMF13</td>\n",
       "      <td>0.00</td>\n",
       "    </tr>\n",
       "    <tr>\n",
       "      <th>12</th>\n",
       "      <td>SMF14</td>\n",
       "      <td>0.00</td>\n",
       "    </tr>\n",
       "    <tr>\n",
       "      <th>13</th>\n",
       "      <td>SMF15</td>\n",
       "      <td>0.00</td>\n",
       "    </tr>\n",
       "    <tr>\n",
       "      <th>14</th>\n",
       "      <td>SMF16</td>\n",
       "      <td>0.00</td>\n",
       "    </tr>\n",
       "    <tr>\n",
       "      <th>15</th>\n",
       "      <td>SMF17</td>\n",
       "      <td>0.00</td>\n",
       "    </tr>\n",
       "    <tr>\n",
       "      <th>16</th>\n",
       "      <td>SMF18</td>\n",
       "      <td>0.00</td>\n",
       "    </tr>\n",
       "    <tr>\n",
       "      <th>17</th>\n",
       "      <td>SMF19</td>\n",
       "      <td>0.00</td>\n",
       "    </tr>\n",
       "    <tr>\n",
       "      <th>18</th>\n",
       "      <td>SMF20</td>\n",
       "      <td>0.00</td>\n",
       "    </tr>\n",
       "    <tr>\n",
       "      <th>19</th>\n",
       "      <td>SMF21</td>\n",
       "      <td>0.00</td>\n",
       "    </tr>\n",
       "    <tr>\n",
       "      <th>20</th>\n",
       "      <td>SMF22</td>\n",
       "      <td>0.00</td>\n",
       "    </tr>\n",
       "    <tr>\n",
       "      <th>21</th>\n",
       "      <td>SMF23</td>\n",
       "      <td>0.00</td>\n",
       "    </tr>\n",
       "    <tr>\n",
       "      <th>22</th>\n",
       "      <td>SMF24</td>\n",
       "      <td>0.00</td>\n",
       "    </tr>\n",
       "    <tr>\n",
       "      <th>23</th>\n",
       "      <td>SMF25</td>\n",
       "      <td>0.00</td>\n",
       "    </tr>\n",
       "    <tr>\n",
       "      <th>24</th>\n",
       "      <td>SMF26</td>\n",
       "      <td>0.00</td>\n",
       "    </tr>\n",
       "  </tbody>\n",
       "</table>\n",
       "</div>"
      ],
      "text/plain": [
       "     SMF1     0\n",
       "0    SMF2  0.00\n",
       "1    SMF3  0.00\n",
       "2    SMF4  0.00\n",
       "3    SMF5  0.01\n",
       "4    SMF6  0.02\n",
       "5    SMF7  0.02\n",
       "6    SMF8  0.02\n",
       "7    SMF9  0.93\n",
       "8   SMF10  0.00\n",
       "9   SMF11  0.00\n",
       "10  SMF12  0.00\n",
       "11  SMF13  0.00\n",
       "12  SMF14  0.00\n",
       "13  SMF15  0.00\n",
       "14  SMF16  0.00\n",
       "15  SMF17  0.00\n",
       "16  SMF18  0.00\n",
       "17  SMF19  0.00\n",
       "18  SMF20  0.00\n",
       "19  SMF21  0.00\n",
       "20  SMF22  0.00\n",
       "21  SMF23  0.00\n",
       "22  SMF24  0.00\n",
       "23  SMF25  0.00\n",
       "24  SMF26  0.00"
      ]
     },
     "execution_count": 87,
     "metadata": {},
     "output_type": "execute_result"
    }
   ],
   "source": [
    "id_73.T"
   ]
  },
  {
   "attachments": {},
   "cell_type": "markdown",
   "metadata": {},
   "source": [
    "### These features are obtained from id_73 via thin section analysis, including: {Grain_type: Bioclastic}, {Grain_content: Common}, {Matrix_Types: Micrite}, {Matrix_content: Common}, {Fossils_Types: Crinoids, brachiopods, bryozoans, and scattered rugose coral}, {Fossils_content: Common}, {Depositional fabrics: Strongly burrowed} and {Texture types: Wackestone}. Theses features are evidences that the id_73 sample belongs to SMF9. The distance calculation also shows id_73 has the highest probability in SMF9. This case directly prove that the automatic standard micro-facies prediction is reliable. "
   ]
  },
  {
   "cell_type": "code",
   "execution_count": 92,
   "metadata": {},
   "outputs": [],
   "source": [
    "# Calculate distance of multi SMF and predict FZD\n",
    "\n",
    "# sentence contains a series of SMF, i.e., the sentence icludes: [SMF15C, SMF13, SMF11, SMF12C, SMF11, SMF7, \n",
    "# SMF13, SMF12C, SMF12S, SMF6, SMF5, SMF13, SMF12C, SMF11, SMF7]\n",
    "\n",
    "# The evolution of FZD must obey the Walther's law, so a check function is created and check the prediction\n",
    "def Walther (sentence):\n",
    "    \n",
    "    FZD = [0]*len(sentence)\n",
    "    \n",
    "    for i in len(FZD):\n",
    "        FZD[i] = re.sub(u\"([^\\u0030-\\u0039])\", \"\", sentence[i])\n",
    "    \n",
    "    for j in range(len(sentence)):\n",
    "        if abs(FZD[j+1] - FZD[j]) == 1:\n",
    "            \n",
    "            continue\n",
    "        else:\n",
    "            \n",
    "            break\n",
    "\n",
    "    \n",
    "\n",
    "def smf2fzd (sentence, amplify):\n",
    "    \n",
    "    amplify = a\n",
    "    classification = [0]*len(sentence)\n",
    "    \n",
    "    for i in range(len(sentence)):\n",
    "        dis = [0]*10\n",
    "        for j in range(10):\n",
    "            dis[j] = int(a*distance_Euler(sentence[i],smf.iloc[j]))\n",
    "            dis.append(dis[j])\n",
    "            Dis = np.array(dis)\n",
    "            classification[i] = softmax_dis(Dis)\n",
    "            classification.append(classification[i])\n",
    "    \n",
    "    classification = np.array(classification)\n",
    "    classification = pd.DataFrame(classification, index = FZD)\n",
    "            \n",
    "    return classification.T"
   ]
  },
  {
   "cell_type": "code",
   "execution_count": 94,
   "metadata": {},
   "outputs": [],
   "source": [
    "sample = ['SMF15C', 'SMF13', 'SMF11', 'SMF12C', 'SMF11', 'SMF7', 'SMF13', 'SMF12C', 'SMF12S', 'SMF6'\n",
    "          , 'SMF5', 'SMF13', 'SMF12C', 'SMF11', 'SMF7']"
   ]
  },
  {
   "cell_type": "code",
   "execution_count": 96,
   "metadata": {},
   "outputs": [
    {
     "data": {
      "text/html": [
       "<div>\n",
       "<style scoped>\n",
       "    .dataframe tbody tr th:only-of-type {\n",
       "        vertical-align: middle;\n",
       "    }\n",
       "\n",
       "    .dataframe tbody tr th {\n",
       "        vertical-align: top;\n",
       "    }\n",
       "\n",
       "    .dataframe thead th {\n",
       "        text-align: right;\n",
       "    }\n",
       "</style>\n",
       "<table border=\"1\" class=\"dataframe\">\n",
       "  <thead>\n",
       "    <tr style=\"text-align: right;\">\n",
       "      <th></th>\n",
       "      <th>FZ1</th>\n",
       "      <th>FZ2</th>\n",
       "      <th>FZ3</th>\n",
       "      <th>FZ4</th>\n",
       "      <th>FZ5</th>\n",
       "      <th>FZ6</th>\n",
       "      <th>FZ7</th>\n",
       "      <th>FZ8</th>\n",
       "      <th>FZ9</th>\n",
       "      <th>FZ10</th>\n",
       "    </tr>\n",
       "  </thead>\n",
       "  <tbody>\n",
       "    <tr>\n",
       "      <th>0</th>\n",
       "      <td>NaN</td>\n",
       "      <td>NaN</td>\n",
       "      <td>NaN</td>\n",
       "      <td>NaN</td>\n",
       "      <td>NaN</td>\n",
       "      <td>0.480</td>\n",
       "      <td>0.52</td>\n",
       "      <td>NaN</td>\n",
       "      <td>NaN</td>\n",
       "      <td>NaN</td>\n",
       "    </tr>\n",
       "    <tr>\n",
       "      <th>1</th>\n",
       "      <td>NaN</td>\n",
       "      <td>NaN</td>\n",
       "      <td>NaN</td>\n",
       "      <td>NaN</td>\n",
       "      <td>NaN</td>\n",
       "      <td>0.440</td>\n",
       "      <td>0.56</td>\n",
       "      <td>NaN</td>\n",
       "      <td>NaN</td>\n",
       "      <td>NaN</td>\n",
       "    </tr>\n",
       "    <tr>\n",
       "      <th>2</th>\n",
       "      <td>NaN</td>\n",
       "      <td>NaN</td>\n",
       "      <td>NaN</td>\n",
       "      <td>NaN</td>\n",
       "      <td>0.15</td>\n",
       "      <td>0.850</td>\n",
       "      <td>NaN</td>\n",
       "      <td>NaN</td>\n",
       "      <td>NaN</td>\n",
       "      <td>NaN</td>\n",
       "    </tr>\n",
       "    <tr>\n",
       "      <th>3</th>\n",
       "      <td>NaN</td>\n",
       "      <td>NaN</td>\n",
       "      <td>NaN</td>\n",
       "      <td>0.38</td>\n",
       "      <td>0.62</td>\n",
       "      <td>NaN</td>\n",
       "      <td>NaN</td>\n",
       "      <td>NaN</td>\n",
       "      <td>NaN</td>\n",
       "      <td>NaN</td>\n",
       "    </tr>\n",
       "    <tr>\n",
       "      <th>4</th>\n",
       "      <td>NaN</td>\n",
       "      <td>NaN</td>\n",
       "      <td>NaN</td>\n",
       "      <td>NaN</td>\n",
       "      <td>0.85</td>\n",
       "      <td>0.150</td>\n",
       "      <td>NaN</td>\n",
       "      <td>NaN</td>\n",
       "      <td>NaN</td>\n",
       "      <td>NaN</td>\n",
       "    </tr>\n",
       "    <tr>\n",
       "      <th>5</th>\n",
       "      <td>NaN</td>\n",
       "      <td>NaN</td>\n",
       "      <td>NaN</td>\n",
       "      <td>NaN</td>\n",
       "      <td>1.00</td>\n",
       "      <td>NaN</td>\n",
       "      <td>NaN</td>\n",
       "      <td>NaN</td>\n",
       "      <td>NaN</td>\n",
       "      <td>NaN</td>\n",
       "    </tr>\n",
       "    <tr>\n",
       "      <th>6</th>\n",
       "      <td>NaN</td>\n",
       "      <td>NaN</td>\n",
       "      <td>NaN</td>\n",
       "      <td>NaN</td>\n",
       "      <td>0.94</td>\n",
       "      <td>0.060</td>\n",
       "      <td>NaN</td>\n",
       "      <td>NaN</td>\n",
       "      <td>NaN</td>\n",
       "      <td>NaN</td>\n",
       "    </tr>\n",
       "    <tr>\n",
       "      <th>7</th>\n",
       "      <td>NaN</td>\n",
       "      <td>NaN</td>\n",
       "      <td>NaN</td>\n",
       "      <td>0.48</td>\n",
       "      <td>0.52</td>\n",
       "      <td>NaN</td>\n",
       "      <td>NaN</td>\n",
       "      <td>NaN</td>\n",
       "      <td>NaN</td>\n",
       "      <td>NaN</td>\n",
       "    </tr>\n",
       "    <tr>\n",
       "      <th>8</th>\n",
       "      <td>NaN</td>\n",
       "      <td>NaN</td>\n",
       "      <td>0.075</td>\n",
       "      <td>0.43</td>\n",
       "      <td>0.42</td>\n",
       "      <td>0.075</td>\n",
       "      <td>NaN</td>\n",
       "      <td>NaN</td>\n",
       "      <td>NaN</td>\n",
       "      <td>NaN</td>\n",
       "    </tr>\n",
       "    <tr>\n",
       "      <th>9</th>\n",
       "      <td>NaN</td>\n",
       "      <td>NaN</td>\n",
       "      <td>NaN</td>\n",
       "      <td>1.00</td>\n",
       "      <td>NaN</td>\n",
       "      <td>NaN</td>\n",
       "      <td>NaN</td>\n",
       "      <td>NaN</td>\n",
       "      <td>NaN</td>\n",
       "      <td>NaN</td>\n",
       "    </tr>\n",
       "    <tr>\n",
       "      <th>10</th>\n",
       "      <td>NaN</td>\n",
       "      <td>NaN</td>\n",
       "      <td>NaN</td>\n",
       "      <td>1.00</td>\n",
       "      <td>NaN</td>\n",
       "      <td>NaN</td>\n",
       "      <td>NaN</td>\n",
       "      <td>NaN</td>\n",
       "      <td>NaN</td>\n",
       "      <td>NaN</td>\n",
       "    </tr>\n",
       "    <tr>\n",
       "      <th>11</th>\n",
       "      <td>NaN</td>\n",
       "      <td>NaN</td>\n",
       "      <td>NaN</td>\n",
       "      <td>NaN</td>\n",
       "      <td>1.00</td>\n",
       "      <td>NaN</td>\n",
       "      <td>NaN</td>\n",
       "      <td>NaN</td>\n",
       "      <td>NaN</td>\n",
       "      <td>NaN</td>\n",
       "    </tr>\n",
       "    <tr>\n",
       "      <th>12</th>\n",
       "      <td>NaN</td>\n",
       "      <td>NaN</td>\n",
       "      <td>NaN</td>\n",
       "      <td>0.01</td>\n",
       "      <td>0.99</td>\n",
       "      <td>NaN</td>\n",
       "      <td>NaN</td>\n",
       "      <td>NaN</td>\n",
       "      <td>NaN</td>\n",
       "      <td>NaN</td>\n",
       "    </tr>\n",
       "    <tr>\n",
       "      <th>13</th>\n",
       "      <td>NaN</td>\n",
       "      <td>NaN</td>\n",
       "      <td>NaN</td>\n",
       "      <td>NaN</td>\n",
       "      <td>0.99</td>\n",
       "      <td>0.010</td>\n",
       "      <td>NaN</td>\n",
       "      <td>NaN</td>\n",
       "      <td>NaN</td>\n",
       "      <td>NaN</td>\n",
       "    </tr>\n",
       "    <tr>\n",
       "      <th>14</th>\n",
       "      <td>NaN</td>\n",
       "      <td>NaN</td>\n",
       "      <td>NaN</td>\n",
       "      <td>NaN</td>\n",
       "      <td>1.00</td>\n",
       "      <td>NaN</td>\n",
       "      <td>NaN</td>\n",
       "      <td>NaN</td>\n",
       "      <td>NaN</td>\n",
       "      <td>NaN</td>\n",
       "    </tr>\n",
       "  </tbody>\n",
       "</table>\n",
       "</div>"
      ],
      "text/plain": [
       "    FZ1  FZ2    FZ3   FZ4   FZ5    FZ6   FZ7  FZ8  FZ9  FZ10\n",
       "0   NaN  NaN    NaN   NaN   NaN  0.480  0.52  NaN  NaN   NaN\n",
       "1   NaN  NaN    NaN   NaN   NaN  0.440  0.56  NaN  NaN   NaN\n",
       "2   NaN  NaN    NaN   NaN  0.15  0.850   NaN  NaN  NaN   NaN\n",
       "3   NaN  NaN    NaN  0.38  0.62    NaN   NaN  NaN  NaN   NaN\n",
       "4   NaN  NaN    NaN   NaN  0.85  0.150   NaN  NaN  NaN   NaN\n",
       "5   NaN  NaN    NaN   NaN  1.00    NaN   NaN  NaN  NaN   NaN\n",
       "6   NaN  NaN    NaN   NaN  0.94  0.060   NaN  NaN  NaN   NaN\n",
       "7   NaN  NaN    NaN  0.48  0.52    NaN   NaN  NaN  NaN   NaN\n",
       "8   NaN  NaN  0.075  0.43  0.42  0.075   NaN  NaN  NaN   NaN\n",
       "9   NaN  NaN    NaN  1.00   NaN    NaN   NaN  NaN  NaN   NaN\n",
       "10  NaN  NaN    NaN  1.00   NaN    NaN   NaN  NaN  NaN   NaN\n",
       "11  NaN  NaN    NaN   NaN  1.00    NaN   NaN  NaN  NaN   NaN\n",
       "12  NaN  NaN    NaN  0.01  0.99    NaN   NaN  NaN  NaN   NaN\n",
       "13  NaN  NaN    NaN   NaN  0.99  0.010   NaN  NaN  NaN   NaN\n",
       "14  NaN  NaN    NaN   NaN  1.00    NaN   NaN  NaN  NaN   NaN"
      ]
     },
     "execution_count": 96,
     "metadata": {},
     "output_type": "execute_result"
    }
   ],
   "source": [
    "Walther(smf2fzd(sample))"
   ]
  },
  {
   "cell_type": "code",
   "execution_count": 104,
   "metadata": {},
   "outputs": [],
   "source": [
    "# ploting the sea-lavel change curve\n",
    "def make_bar(seLf,FZ_list,X_ticks, FIGURE):\n",
    "    y =[]\n",
    "    x =[]\n",
    "    for index,i in enumerate(FZ_list) :\n",
    "        if i!=-1:\n",
    "            x.append (index)\n",
    "            y .append(i)\n",
    "    print((x,y))\n",
    "    plt.pLot(x, y, linewidth=4)\n",
    "     \n",
    "    #Set the chart title and label the axis.\n",
    "    plt. title(FIGURE,\n",
    "            fontsize=20)\n",
    "    plt.xLabel(\"x\", fontsize=12)\n",
    "    pLt. yLabeL(\"Depth\", fontsize=12)\n",
    "\n",
    "    #Sets the number of the axis scale.   \n",
    "    plt.xticks([i for i in range(X_ticks)])"
   ]
  },
  {
   "cell_type": "code",
   "execution_count": null,
   "metadata": {},
   "outputs": [],
   "source": []
  }
 ],
 "metadata": {
  "kernelspec": {
   "display_name": "Python 3",
   "language": "python",
   "name": "python3"
  },
  "language_info": {
   "codemirror_mode": {
    "name": "ipython",
    "version": 3
   },
   "file_extension": ".py",
   "mimetype": "text/x-python",
   "name": "python",
   "nbconvert_exporter": "python",
   "pygments_lexer": "ipython3",
   "version": "3.8.5"
  }
 },
 "nbformat": 4,
 "nbformat_minor": 2
}
